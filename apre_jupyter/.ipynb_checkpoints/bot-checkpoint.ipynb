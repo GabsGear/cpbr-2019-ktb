{
 "cells": [
  {
   "cell_type": "markdown",
   "metadata": {},
   "source": [
    "# Importando os modulos"
   ]
  },
  {
   "cell_type": "code",
   "execution_count": 1,
   "metadata": {},
   "outputs": [],
   "source": [
    "import botcpbr as bt\n",
    "import pandas as pd\n",
    "from binance.client import Client\n",
    "from binance.enums import ORDER_TYPE_LIMIT, TIME_IN_FORCE_GTC, SIDE_BUY, SIDE_SELL, TIME_IN_FORCE_FOK\n",
    "\n",
    "import io\n",
    "from scipy import misc\n",
    "from sklearn import tree # pack age tree \n",
    "from sklearn.metrics import accuracy_score # medir % acerto\n",
    "from sklearn.preprocessing import MinMaxScaler\n",
    "from sklearn.model_selection import train_test_split # cortar dataset\n",
    "from sklearn.ensemble import GradientBoostingClassifier"
   ]
  },
  {
   "cell_type": "markdown",
   "metadata": {},
   "source": [
    "# Encapsulando o modelo"
   ]
  },
  {
   "cell_type": "code",
   "execution_count": 73,
   "metadata": {},
   "outputs": [],
   "source": [
    "class Dct(object):\n",
    "    def __init__(self, candles):\n",
    "        self.candles = candles\n",
    "        self.scaler = MinMaxScaler()\n",
    "        self.train = None\n",
    "        self.test = None\n",
    "        self.model = None\n",
    "        self.features = ['Open', 'High', 'Low', 'Close', 'Volume', '30 Day MA',\n",
    "                   '30 Day STD', 'Upper Band', 'Lower Band', 'up_cross', 'down_cross',\n",
    "                   'EMA - 15', 'aaron down', 'aaron up', 'tenkansen', 'kijunsen',\n",
    "                   'momentun']\n",
    "        self.xtrain = None\n",
    "        self.ytrain = None\n",
    "        self.xtest = None\n",
    "        self.ytest = None\n",
    "        self.fitted = None\n",
    "\n",
    "    def split_and_scale(self):\n",
    "        self.candles = self.candles.drop(['date'], axis=1)    \n",
    "        self.candles[self.features] = self.scaler.fit_transform(self.candles[self.features])      \n",
    "        self.train, self.test = train_test_split(self.candles, test_size=round(len(self.candles)*0.2))\n",
    "    \n",
    "    def cast_target(self):\n",
    "        self.train['target'] = pd.to_numeric(self.train['target'], downcast='float')\n",
    "        self.test['target'] = pd.to_numeric(self.test['target'], downcast='float')\n",
    "        \n",
    "    def create_model(self):\n",
    "        self.model = GradientBoostingClassifier(criterion='friedman_mse', init=None,\n",
    "                    learning_rate=0.1, loss='deviance', max_depth=3, max_features=None, \n",
    "                    max_leaf_nodes=None, min_impurity_decrease=0.0, min_impurity_split=None,\n",
    "                    min_samples_leaf=1, min_samples_split=2, min_weight_fraction_leaf=0.0,\n",
    "                    n_estimators=100, presort='auto', random_state=None, subsample=1.0, verbose=0, \n",
    "                    warm_start=False)\n",
    "    \n",
    "    def mount_model(self):\n",
    "        self.x_train = self.train[self.features]\n",
    "        self.y_train = self.train['target']\n",
    "        self.x_test = self.test[self.features]\n",
    "        self.y_test = self.test['target']\n",
    "        \n",
    "    def fit_model(self):\n",
    "        self.fitted = self.model.fit(self.x_train, self.y_train) \n",
    "        \n",
    "    def get_prediction(self):\n",
    "        self.y_pred = self.fitted.predict(self.x_test)\n",
    "        return accuracy_score(self.y_test, self.y_pred)*100\n",
    "        \n",
    "    def make_prediction(self, state):\n",
    "        return self.fitted.predict(state)\n",
    "        \n",
    "    def get_model(self):\n",
    "        self.split_and_scale()\n",
    "        self.cast_target()\n",
    "        self.create_model()\n",
    "        self.mount_model()\n",
    "        self.fit_model()\n",
    "        \n",
    "    def create_signal(self):\n",
    "        self.get_model()\n",
    "        acc = self.get_prediction()\n",
    "        state = self.candles.tail(1)\n",
    "        state = state.drop(['target'], axis=1)\n",
    "        pred = self.make_prediction(state)\n",
    "        if pred == 0:\n",
    "            return 'buy', acc\n",
    "        else: \n",
    "            return 'sell', acc"
   ]
  },
  {
   "cell_type": "markdown",
   "metadata": {},
   "source": [
    "# Definindo a estratégia"
   ]
  },
  {
   "cell_type": "code",
   "execution_count": 74,
   "metadata": {},
   "outputs": [],
   "source": [
    "def run_strategy():\n",
    "    #pegando os candles e calculando bbands e os cross das bandas\n",
    "    bb = bt.Bbands()\n",
    "    bb.eval_boillinger_bands()\n",
    "    bb.detect_cross()\n",
    "\n",
    "    #adicionando os outros indicadores\n",
    "    ind = bt.Indicators(bb.candles)\n",
    "    candles = ind.add_indicators()\n",
    "    \n",
    "    #Definindo o target\n",
    "    candles = bt.createTarget(candles, 5)\n",
    "\n",
    "    #Limpando o dataframe\n",
    "    dt = bt.cleanData(candles)\n",
    "    candles = dt.clean()\n",
    "    \n",
    "    model = Dct(candles)\n",
    "    sig, acc = model.create_signal()\n",
    "    return sig, acc"
   ]
  },
  {
   "cell_type": "markdown",
   "metadata": {},
   "source": [
    "# Bot"
   ]
  },
  {
   "cell_type": "code",
   "execution_count": 100,
   "metadata": {},
   "outputs": [],
   "source": [
    "class Orders(object):\n",
    "    def createOrder(self, side=SIDE_BUY, quantity=100, price='0.00001'):\n",
    "        try:\n",
    "            order = Client.create_test_order(\n",
    "            symbol='USDTBTC',\n",
    "            side=side,\n",
    "            type=ORDER_TYPE_LIMIT,\n",
    "            timeInForce=TIME_IN_FORCE_GTC,\n",
    "            quantity=quantity,\n",
    "            price=price)\n",
    "        except:\n",
    "            print('erro create order')\n",
    "        \n",
    "    def loginAPI(self):\n",
    "        pass\n",
    "    \n",
    "\n",
    "class Bot(object):\n",
    "    def __init__(self):\n",
    "        self.botStatus = {\n",
    "            'openOrder':'none',\n",
    "            'lastOperation':'sell',\n",
    "        }\n",
    "        self.trades = 0\n",
    "    \n",
    "    def checkSignal(self):\n",
    "        signal, acc = run_strategy()\n",
    "        \n",
    "        if (self.botStatus['lastOperation'] == 'buy'):\n",
    "            if (signal == 'sell'):\n",
    "                self.updateStatus('no', signal)\n",
    "            else:\n",
    "                pass     \n",
    "        else:\n",
    "            if (signal == 'buy'):\n",
    "                self.updateStatus('yes', signal)\n",
    "                self.trades += 1\n",
    "    \n",
    "    \n",
    "    def updateStatus(self, status, operation):\n",
    "        self.botStatus['openOrder'] = status\n",
    "        self.botStatus['lastOperation'] = operation"
   ]
  },
  {
   "cell_type": "markdown",
   "metadata": {},
   "source": [
    "# Rodando"
   ]
  },
  {
   "cell_type": "code",
   "execution_count": null,
   "metadata": {},
   "outputs": [
    {
     "name": "stdout",
     "output_type": "stream",
     "text": [
      "Runtime = 1780 seconds\n",
      "{'openOrder': 'yes', 'lastOperation': 'buy'}\n",
      "Numero de trades: 4\n"
     ]
    }
   ],
   "source": [
    "from IPython.display import clear_output\n",
    "import time\n",
    "\n",
    "data = bt.Aquisition()\n",
    "candles = data.get_candles()\n",
    "data.plot_candles()\n",
    "\n",
    "bot = Bot()\n",
    "runtime = 0\n",
    "while(True):\n",
    "    bot.checkSignal()\n",
    "    clear_output()\n",
    "    print('Runtime = %s seconds' % (runtime))\n",
    "    print(bot.botStatus)\n",
    "    print('Numero de trades: {}'.format(bot.trades))\n",
    "    time.sleep(10)\n",
    "    runtime += 10"
   ]
  },
  {
   "cell_type": "code",
   "execution_count": null,
   "metadata": {},
   "outputs": [],
   "source": []
  }
 ],
 "metadata": {
  "kernelspec": {
   "display_name": "Python 3",
   "language": "python",
   "name": "python3"
  },
  "language_info": {
   "codemirror_mode": {
    "name": "ipython",
    "version": 3
   },
   "file_extension": ".py",
   "mimetype": "text/x-python",
   "name": "python",
   "nbconvert_exporter": "python",
   "pygments_lexer": "ipython3",
   "version": "3.6.8"
  }
 },
 "nbformat": 4,
 "nbformat_minor": 2
}
