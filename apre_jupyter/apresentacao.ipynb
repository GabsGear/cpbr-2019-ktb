{
 "cells": [
  {
   "cell_type": "markdown",
   "metadata": {},
   "source": [
    "# Testes de viabilidade, aplicação de algorítmos de machine learning para tradding"
   ]
  },
  {
   "cell_type": "markdown",
   "metadata": {},
   "source": [
    "# Primeiro Passo, Aquisição dos dados OHLCV direto da exchange"
   ]
  },
  {
   "cell_type": "markdown",
   "metadata": {},
   "source": [
    "# Pegando os Candles da API"
   ]
  },
  {
   "cell_type": "code",
   "execution_count": 7,
   "metadata": {},
   "outputs": [],
   "source": [
    "import requests, json\n",
    "from binance.client import Client\n",
    "from binance.enums import *\n",
    "\n",
    "import pandas as pd\n",
    "import numpy as np\n",
    "import time\n",
    "from datetime import datetime\n",
    "\n",
    "from math import pi\n",
    "from bokeh.plotting import figure, show, output_file\n",
    "from bokeh.sampledata.stocks import MSFT\n",
    "from bokeh.models import Band\n",
    "%matplotlib inline\n",
    "\n",
    "from pyti.exponential_moving_average import exponential_moving_average as ema\n",
    "from pyti.aroon import aroon_down, aroon_up\n",
    "from pyti.ichimoku_cloud import tenkansen, kijunsen, chiku_span, senkou_a, senkou_b\n",
    "from pyti.momentum import momentum\n",
    "\n",
    "import matplotlib.pyplot as plt\n",
    "import seaborn as sns\n",
    "\n",
    "\n",
    "class Aquisition(object):\n",
    "    def __init__(self):\n",
    "        self.client = Client('', '')\n",
    "        self.df = \"\"\n",
    "        \n",
    "    def getCandles(self):\n",
    "        self.df = pd.DataFrame(columns= ['Open_time', 'Open', 'High', 'Low', 'Close', 'Volume', 'Close_time'])\n",
    "        candles = self.client.get_klines(symbol='BTCUSDT', interval=Client.KLINE_INTERVAL_1DAY)\n",
    "        opentime, lopen, lhigh, llow, lclose, lvol, closetime = [], [], [], [], [], [], []\n",
    "        for candle in candles:\n",
    "            opentime.append(candle[0])\n",
    "            lopen.append(candle[1])\n",
    "            lhigh.append(candle[2])\n",
    "            llow.append(candle[3])\n",
    "            lclose.append(candle[4])\n",
    "            lvol.append(candle[5])\n",
    "            closetime.append(candle[6])\n",
    "        self.df['Open_time'] = opentime\n",
    "        self.df[\"date\"] = opentime\n",
    "        self.df['Open'] = np.array(lopen).astype(np.float)\n",
    "        self.df['High'] = np.array(lhigh).astype(np.float)\n",
    "        self.df['Low'] = np.array(llow).astype(np.float)\n",
    "        self.df['Close'] = np.array(lclose).astype(np.float)\n",
    "        self.df['Volume'] = np.array(lvol).astype(np.float)\n",
    "        self.df['Close_time'] = closetime\n",
    "        self.df[\"date\"] = pd.to_datetime(self.df['date'],unit='ms')\n",
    "        return self.df\n",
    "    \n",
    "    def getPriceNow(self):\n",
    "        r = requests.get(\n",
    "            \"https://www.binance.com/api/v3/ticker/price?symbol=BTCUSDT\")\n",
    "        r = r.content\n",
    "        jsonResponse = json.loads(r.decode('utf-8'))\n",
    "        return float(jsonResponse['price'])\n",
    "    \n",
    "    def plotCandles(self):\n",
    "        df = self.df[450:]\n",
    "        df[\"date\"] = df[\"Open_time\"]\n",
    "        df[\"date\"] = pd.to_datetime(self.df['date'],unit='ms')\n",
    "        inc = df.Close > df.Open\n",
    "        dec = df.Open > df.Close\n",
    "        w = 12*60*60*1000 # half day in ms\n",
    "        TOOLS = \"pan,wheel_zoom,box_zoom,reset,save\"\n",
    "        p = figure(x_axis_type=\"datetime\", tools=TOOLS, plot_width=1000, title = \"BITCOIN Candlestick\")\n",
    "        p.xaxis.major_label_orientation = pi/4\n",
    "        p.grid.grid_line_alpha=0.3\n",
    "        p.segment(df.date, df.High, df.date, df.Low, color=\"black\")\n",
    "        p.vbar(df.date[inc], w, df.Open[inc], df.Close[inc], fill_color=\"#006400\", line_color=\"black\")\n",
    "        p.vbar(df.date[dec], w, df.Open[dec], df.Close[dec], fill_color=\"#F2583E\", line_color=\"black\")\n",
    "        output_file(\"candlestick.html\", title=\"candlestick.py Grafico de Candles\")\n",
    "        show(p)  "
   ]
  },
  {
   "cell_type": "markdown",
   "metadata": {},
   "source": [
    "## Calculando indicador\n",
    "\n",
    "***Bandas de boillinger- Decidi implementar esse indicador por esporte... os demais são importados do pity*** "
   ]
  },
  {
   "cell_type": "code",
   "execution_count": 8,
   "metadata": {},
   "outputs": [],
   "source": [
    "class Bbands(Aquisition):  \n",
    "    \n",
    "    def __init__(self, nDer = 2, period = 20):\n",
    "        super(Bbands, self).__init__()\n",
    "        self.candles = super().getCandles()\n",
    "        self.nDer = nDer\n",
    "        self.period = period\n",
    "    \n",
    "    def calcBands(self):\n",
    "        # a formula eh a SMA +- desvio*n_desvios\n",
    "        self.candles['30 Day MA'] = self.candles['Close'].rolling(window=self.period).mean()\n",
    "        self.candles['30 Day STD'] = self.candles['Close'].rolling(window=self.period).std()\n",
    "        self.candles['Upper Band'] = self.candles['30 Day MA'] + (self.candles['30 Day STD'] * self.nDer)\n",
    "        self.candles['Lower Band'] = self.candles['30 Day MA'] - (self.candles['30 Day STD'] * self.nDer)\n",
    "        \n",
    "    def plotSetting(self, df):\n",
    "        TOOLS = \"pan,wheel_zoom,box_zoom,reset,save\"\n",
    "        p = figure(x_axis_type=\"datetime\", tools=TOOLS, plot_width=1000, title = \"Bbands Chart\")\n",
    "        p.xaxis.major_label_orientation = pi/4\n",
    "        p.grid.grid_line_alpha=0.3\n",
    "        p.line(df.date, df.Close, line_color=\"black\")\n",
    "        p.line(df.date, df['30 Day MA'], line_color=\"red\", legend=\"30 Day MA\", muted_alpha=0.2)\n",
    "        p.line(df.date, df['Upper Band'], line_color=\"blue\", legend=\"Upper Band\", muted_alpha=0.2)\n",
    "        p.line(df.date, df['Lower Band'], line_color=\"green\", legend=\"Lower Band\", muted_alpha=0.2)\n",
    "        \n",
    "        p.legend.location = \"top_left\"\n",
    "        p.legend.click_policy=\"mute\"\n",
    "        return p\n",
    "        \n",
    "    def plotBands(self):\n",
    "        df = self.candles\n",
    "        p = self.plotSetting(df)\n",
    "        output_file(\"candlestick.html\", title=\"candlestick.py Bbands\")\n",
    "        show(p)  \n",
    "        \n",
    "    def detectCross(self):\n",
    "        #essa função detecta o cruzamento do preço do ativo com as bandas, insere 1 no dataframe \n",
    "        #com cruzamento superior e 0 inferior\n",
    "        self.calcBands()\n",
    "        #self.candles['up_cross'] = np.where((self.candles['Close'] >= self.candles['Upper Band'])\n",
    "        #             , self.candles['Close'], '')       \n",
    "        self.candles['up_cross'] = np.where((self.candles['Close'] >= self.candles['Upper Band'])\n",
    "             , 1, 0)\n",
    "        \n",
    "        #self.candles['down_cross'] = np.where((self.candles['Close'] <= self.candles['Lower Band'])\n",
    "         #    , self.candles['Close'],  '')\n",
    "        self.candles['down_cross'] = np.where((self.candles['Close'] <= self.candles['Lower Band'])\n",
    "             , 1,  0)\n",
    "        \n",
    "        \n",
    "        #aqui pra plotar com bokeh....\n",
    "        p = self.plotSetting(self.candles)        \n",
    "        p.circle(self.candles.date, self.candles['up_cross'], size=5, color=\"red\", alpha=1)\n",
    "        p.circle(self.candles.date, self.candles['down_cross'], size=5, color=\"green\", alpha=1)   \n",
    "        output_file(\"candlestick.html\", title=\"candlestick.py Bbands\")\n",
    "        #show(p)  \n",
    "        \n",
    "    def generateSignal(self):\n",
    "        # geração de sinal buy and sell somente com a banda (estrategia classica não sera usada)\n",
    "        aq = Aquisition()\n",
    "        self.candles = aq.getCandles()\n",
    "        \n",
    "        ma = self.candles['Close'][480:].mean()\n",
    "        sma = self.candles['Close'][480:].std()\n",
    "        ub = ma + (sma * 2)\n",
    "        lb = ma - (sma * 2)\n",
    "        print(type(ub))\n",
    "        price  = aq.getPriceNow()\n",
    "        \n",
    "        if(price < lb):\n",
    "            return 'buy'\n",
    "        \n",
    "        if(price > ub):\n",
    "            return 'sell'\n",
    "        \n",
    "        else:\n",
    "            return 'hold'"
   ]
  },
  {
   "cell_type": "markdown",
   "metadata": {},
   "source": [
    "# Analizando Correlação -- depois pretendo fazer uma feature selection com base na correlação"
   ]
  },
  {
   "cell_type": "code",
   "execution_count": 9,
   "metadata": {},
   "outputs": [],
   "source": [
    "class Corr(object):\n",
    "    def __init__(self, df):\n",
    "        self.df = df\n",
    "        try:\n",
    "            self.df = self.df.drop(['High', 'Low', 'Open'], axis=1)\n",
    "        except:\n",
    "            pass\n",
    "    \n",
    "    def pearson(self):\n",
    "        plt.figure(figsize=(12,8))\n",
    "        kwargs = {'fontsize':12,'color':'black'}\n",
    "        sns.heatmap(self.df.corr(),annot=True,robust=True)\n",
    "        plt.title('Correlation Analysis',**kwargs)\n",
    "        plt.tick_params(length=3,labelsize=12,color='black')\n",
    "        plt.yticks(rotation=0)\n",
    "        plt.show()"
   ]
  },
  {
   "cell_type": "code",
   "execution_count": 10,
   "metadata": {
    "scrolled": false
   },
   "outputs": [
    {
     "data": {
      "text/plain": [
       "'\\n%%time\\ndf = Aquisition()\\nc = Corr(df.getCandles())\\nc.pearson()\\n'"
      ]
     },
     "execution_count": 10,
     "metadata": {},
     "output_type": "execute_result"
    }
   ],
   "source": [
    "'''\n",
    "%%time\n",
    "df = Aquisition()\n",
    "c = Corr(df.getCandles())\n",
    "c.pearson()\n",
    "'''"
   ]
  },
  {
   "cell_type": "markdown",
   "metadata": {},
   "source": [
    "# A análise de correlação\n",
    "Não ajudou muito pois as correlações encontradas já eram esperadas como SMA e BBands "
   ]
  },
  {
   "cell_type": "markdown",
   "metadata": {},
   "source": [
    "# Criando variável target\n",
    "\n",
    "#### Ta bem bosta mas vou pensar uma parada mais elaborada, a ideia desse método eh verificar \n",
    "#### o preço atual e o preço 10 candles a frente, quando o preço sobe pinta-se o atual de verde e quando desce de vermelho\n"
   ]
  },
  {
   "cell_type": "code",
   "execution_count": 11,
   "metadata": {},
   "outputs": [],
   "source": [
    "class Target(object):\n",
    "    def __init__(self, candles):\n",
    "        self.candles = candles\n",
    "        self.buy = [] \n",
    "        self.sell = []\n",
    "        self.hold = []\n",
    "        self.close = self.candles['Close'].tolist() \n",
    "        \n",
    "        \n",
    "    def fill(self, vBuy, vSell):\n",
    "        self.buy.append(vBuy) \n",
    "        self.sell.append(vSell)\n",
    "        \n",
    "    def testTarget(self):\n",
    "        for i in range (0, len(self.close)-11):\n",
    "            if float(self.close[i]) < float(self.close[i+10]):\n",
    "                self.fill(self.close[i], 'NaN')\n",
    "            elif float(self.close[i]) > float(self.close[i+10]):\n",
    "                self.fill('NaN', self.close[i])\n",
    "                \n",
    "        for i in range (488, 500):\n",
    "            self.fill('NaN', 'NaN')\n",
    "            \n",
    "        self.candles['buy'] = self.buy\n",
    "        self.candles['sell'] = self.sell\n",
    "        \n",
    "    def plotTargets(self):   \n",
    "        TOOLS = \"pan,wheel_zoom,box_zoom,reset,save\"\n",
    "        p = figure(x_axis_type=\"datetime\", tools=TOOLS, plot_width=1000, title = \"Bbands Chart\")\n",
    "        p.xaxis.major_label_orientation = pi/4\n",
    "        p.grid.grid_line_alpha=0.3\n",
    "\n",
    "        p.line(self.candles.date, self.candles.Close, line_color=\"black\")\n",
    "\n",
    "        p.circle(self.candles.date, self.candles['sell'], size=5, color=\"red\", alpha=1, legend='buy')\n",
    "        p.circle(self.candles.date, self.candles['buy'], size=5, color=\"green\", alpha=1, legend='sell')\n",
    "\n",
    "        output_file(\"candlestick.html\", title=\"candlestick.py Bbands\")\n",
    "        show(p)  "
   ]
  },
  {
   "cell_type": "code",
   "execution_count": 12,
   "metadata": {},
   "outputs": [],
   "source": [
    "df = Aquisition()\n",
    "tgt = Target(df.getCandles())\n",
    "tgt.testTarget()\n",
    "tgt.plotTargets()"
   ]
  },
  {
   "cell_type": "markdown",
   "metadata": {},
   "source": [
    "# Exemplo de saida:\n"
   ]
  },
  {
   "cell_type": "markdown",
   "metadata": {},
   "source": [
    "![img](candles.png)"
   ]
  },
  {
   "cell_type": "markdown",
   "metadata": {},
   "source": [
    "### OBS: Esse modelo vai ser usado até aparecer uma maneira melhor na minha mente..."
   ]
  },
  {
   "cell_type": "markdown",
   "metadata": {},
   "source": [
    "# Definição do target\n",
    "\n",
    "#### Percorre o array do close com o metodo lookahead com 10 candles inserindo 0 (buy) ou 1 (sell) no campo target "
   ]
  },
  {
   "cell_type": "code",
   "execution_count": 13,
   "metadata": {
    "scrolled": true
   },
   "outputs": [],
   "source": [
    "def createTarget(candles):\n",
    "    \n",
    "    close = candles['Close'].tolist()\n",
    "    target = []\n",
    "    \n",
    "    for i in range (0, len(close)-11):\n",
    "        if float(close[i]) < float(close[i+10]):\n",
    "            target.append(0)\n",
    "\n",
    "        elif float(close[i]) > float(close[i+10]):\n",
    "            target.append(1)\n",
    "            \n",
    "    for i in range (488, 500):\n",
    "        target.append('NaN')\n",
    "        \n",
    "    candles['target'] = target"
   ]
  },
  {
   "cell_type": "markdown",
   "metadata": {},
   "source": [
    "# Limpando as colunas NaN apagando todas elas do df inclusive as colunas sell e buy\n"
   ]
  },
  {
   "cell_type": "code",
   "execution_count": 14,
   "metadata": {},
   "outputs": [],
   "source": [
    "class cleanData(object):\n",
    "    def __init__(self, candles):\n",
    "        self.candles = candles\n",
    "\n",
    "    def clean(self):\n",
    "        try:\n",
    "            self.candles = self.candles.drop(['sell', 'buy'], axis=1)\n",
    "        except:\n",
    "            print('Erro apagando sell e buy')\n",
    "            pass\n",
    "        \n",
    "        self.candles = self.candles.dropna()\n",
    "        for column in self.candles:\n",
    "            self.candles = self.candles[~self.candles[column].isin(['NaN'])]\n",
    "\n",
    "        self.candles.to_csv('csv_ok', sep=',', encoding='utf-8')\n",
    "        return self.candles"
   ]
  },
  {
   "cell_type": "markdown",
   "metadata": {},
   "source": [
    "# ADICIONANDO TODOS OS INDICADORES AO DATAFRAME\n",
    "\n",
    "\n",
    "### Tem muita coisa pra fazer aqui\n",
    "#### Os indicadores iniciais foram escolhidos arbitrariamente, o proximo passo aqui eh fazer uma feature selection pra ver quais acrescentar  e quais retirar...\n",
    "\n",
    "+ bbands\n",
    "+ cross das bbancs\n",
    "+ EMA - 15\n",
    "+ aaron up e down\n",
    "+ algumas nuvens de ichimoku"
   ]
  },
  {
   "cell_type": "code",
   "execution_count": 15,
   "metadata": {},
   "outputs": [
    {
     "name": "stdout",
     "output_type": "stream",
     "text": [
      "Erro apagando sell e buy\n"
     ]
    },
    {
     "data": {
      "text/html": [
       "<div>\n",
       "<style scoped>\n",
       "    .dataframe tbody tr th:only-of-type {\n",
       "        vertical-align: middle;\n",
       "    }\n",
       "\n",
       "    .dataframe tbody tr th {\n",
       "        vertical-align: top;\n",
       "    }\n",
       "\n",
       "    .dataframe thead th {\n",
       "        text-align: right;\n",
       "    }\n",
       "</style>\n",
       "<table border=\"1\" class=\"dataframe\">\n",
       "  <thead>\n",
       "    <tr style=\"text-align: right;\">\n",
       "      <th></th>\n",
       "      <th>Open</th>\n",
       "      <th>High</th>\n",
       "      <th>Low</th>\n",
       "      <th>Close</th>\n",
       "      <th>Volume</th>\n",
       "      <th>date</th>\n",
       "      <th>30 Day MA</th>\n",
       "      <th>30 Day STD</th>\n",
       "      <th>Upper Band</th>\n",
       "      <th>Lower Band</th>\n",
       "      <th>up_cross</th>\n",
       "      <th>down_cross</th>\n",
       "      <th>EMA - 15</th>\n",
       "      <th>aaron down</th>\n",
       "      <th>aaron up</th>\n",
       "      <th>tenkansen</th>\n",
       "      <th>kijunsen</th>\n",
       "      <th>momentun</th>\n",
       "      <th>target</th>\n",
       "    </tr>\n",
       "  </thead>\n",
       "  <tbody>\n",
       "    <tr>\n",
       "      <th>25</th>\n",
       "      <td>4175.00</td>\n",
       "      <td>4380.00</td>\n",
       "      <td>4138.10</td>\n",
       "      <td>4378.51</td>\n",
       "      <td>720.353183</td>\n",
       "      <td>2017-09-30</td>\n",
       "      <td>3891.7785</td>\n",
       "      <td>282.691471</td>\n",
       "      <td>4457.161442</td>\n",
       "      <td>3326.395558</td>\n",
       "      <td>0</td>\n",
       "      <td>0</td>\n",
       "      <td>4007.623098</td>\n",
       "      <td>36.0</td>\n",
       "      <td>8.0</td>\n",
       "      <td>3987.190</td>\n",
       "      <td>3940.315</td>\n",
       "      <td>663.56</td>\n",
       "      <td>0</td>\n",
       "    </tr>\n",
       "    <tr>\n",
       "      <th>26</th>\n",
       "      <td>4378.49</td>\n",
       "      <td>4406.52</td>\n",
       "      <td>4240.04</td>\n",
       "      <td>4378.48</td>\n",
       "      <td>726.963685</td>\n",
       "      <td>2017-10-01</td>\n",
       "      <td>3900.2790</td>\n",
       "      <td>295.003529</td>\n",
       "      <td>4490.286058</td>\n",
       "      <td>3310.271942</td>\n",
       "      <td>0</td>\n",
       "      <td>0</td>\n",
       "      <td>4066.917463</td>\n",
       "      <td>32.0</td>\n",
       "      <td>4.0</td>\n",
       "      <td>4019.265</td>\n",
       "      <td>3940.315</td>\n",
       "      <td>678.49</td>\n",
       "      <td>0</td>\n",
       "    </tr>\n",
       "    <tr>\n",
       "      <th>27</th>\n",
       "      <td>4400.00</td>\n",
       "      <td>4561.63</td>\n",
       "      <td>4360.00</td>\n",
       "      <td>4380.00</td>\n",
       "      <td>655.756974</td>\n",
       "      <td>2017-10-02</td>\n",
       "      <td>3911.0930</td>\n",
       "      <td>308.809836</td>\n",
       "      <td>4528.712673</td>\n",
       "      <td>3293.473327</td>\n",
       "      <td>0</td>\n",
       "      <td>0</td>\n",
       "      <td>4119.311353</td>\n",
       "      <td>28.0</td>\n",
       "      <td>100.0</td>\n",
       "      <td>4020.010</td>\n",
       "      <td>3940.315</td>\n",
       "      <td>344.99</td>\n",
       "      <td>0</td>\n",
       "    </tr>\n",
       "    <tr>\n",
       "      <th>28</th>\n",
       "      <td>4380.00</td>\n",
       "      <td>4467.33</td>\n",
       "      <td>4180.80</td>\n",
       "      <td>4310.00</td>\n",
       "      <td>1082.323563</td>\n",
       "      <td>2017-10-03</td>\n",
       "      <td>3929.3585</td>\n",
       "      <td>321.446750</td>\n",
       "      <td>4572.252001</td>\n",
       "      <td>3286.464999</td>\n",
       "      <td>0</td>\n",
       "      <td>0</td>\n",
       "      <td>4148.509083</td>\n",
       "      <td>24.0</td>\n",
       "      <td>96.0</td>\n",
       "      <td>4131.175</td>\n",
       "      <td>3784.510</td>\n",
       "      <td>399.96</td>\n",
       "      <td>0</td>\n",
       "    </tr>\n",
       "    <tr>\n",
       "      <th>29</th>\n",
       "      <td>4314.90</td>\n",
       "      <td>4373.00</td>\n",
       "      <td>4142.00</td>\n",
       "      <td>4208.59</td>\n",
       "      <td>868.465101</td>\n",
       "      <td>2017-10-04</td>\n",
       "      <td>3980.3370</td>\n",
       "      <td>275.406421</td>\n",
       "      <td>4531.149842</td>\n",
       "      <td>3429.524158</td>\n",
       "      <td>0</td>\n",
       "      <td>0</td>\n",
       "      <td>4161.840210</td>\n",
       "      <td>20.0</td>\n",
       "      <td>92.0</td>\n",
       "      <td>4131.175</td>\n",
       "      <td>3784.510</td>\n",
       "      <td>308.59</td>\n",
       "      <td>0</td>\n",
       "    </tr>\n",
       "  </tbody>\n",
       "</table>\n",
       "</div>"
      ],
      "text/plain": [
       "       Open     High      Low    Close       Volume       date  30 Day MA  \\\n",
       "25  4175.00  4380.00  4138.10  4378.51   720.353183 2017-09-30  3891.7785   \n",
       "26  4378.49  4406.52  4240.04  4378.48   726.963685 2017-10-01  3900.2790   \n",
       "27  4400.00  4561.63  4360.00  4380.00   655.756974 2017-10-02  3911.0930   \n",
       "28  4380.00  4467.33  4180.80  4310.00  1082.323563 2017-10-03  3929.3585   \n",
       "29  4314.90  4373.00  4142.00  4208.59   868.465101 2017-10-04  3980.3370   \n",
       "\n",
       "    30 Day STD   Upper Band   Lower Band  up_cross  down_cross     EMA - 15  \\\n",
       "25  282.691471  4457.161442  3326.395558         0           0  4007.623098   \n",
       "26  295.003529  4490.286058  3310.271942         0           0  4066.917463   \n",
       "27  308.809836  4528.712673  3293.473327         0           0  4119.311353   \n",
       "28  321.446750  4572.252001  3286.464999         0           0  4148.509083   \n",
       "29  275.406421  4531.149842  3429.524158         0           0  4161.840210   \n",
       "\n",
       "    aaron down  aaron up  tenkansen  kijunsen  momentun target  \n",
       "25        36.0       8.0   3987.190  3940.315    663.56      0  \n",
       "26        32.0       4.0   4019.265  3940.315    678.49      0  \n",
       "27        28.0     100.0   4020.010  3940.315    344.99      0  \n",
       "28        24.0      96.0   4131.175  3784.510    399.96      0  \n",
       "29        20.0      92.0   4131.175  3784.510    308.59      0  "
      ]
     },
     "execution_count": 15,
     "metadata": {},
     "output_type": "execute_result"
    }
   ],
   "source": [
    "bb = Bbands()\n",
    "bb.calcBands()\n",
    "#bb.plotBands()\n",
    "bb.detectCross()\n",
    "\n",
    "#adicionando os outros indicadores\n",
    "candles = bb.candles\n",
    "candles = candles.drop(['Open_time', 'Close_time'], axis=1)\n",
    "candles['EMA - 15'] = ema(candles['Close'].tolist(), 15)\n",
    "candles['aaron down'] = aroon_down(candles['Close'].tolist(), 25)\n",
    "candles['aaron up'] = aroon_up(candles['Close'].tolist(), 25)\n",
    "candles['tenkansen'] = tenkansen(candles['Close'].tolist())\n",
    "candles['kijunsen'] = kijunsen(candles['Close'].tolist())\n",
    "candles['momentun'] = momentum(candles['Close'], 15)\n",
    "\n",
    "#Definindo o target\n",
    "t = Target(candles) \n",
    "#t.testTarget()\n",
    "#t.plotTargets()\n",
    "createTarget(t.candles)\n",
    "\n",
    "#Limpando o dataframe\n",
    "dt = cleanData(t.candles)\n",
    "candles_no_NaN = dt.clean()\n",
    "candles_no_NaN.head()"
   ]
  },
  {
   "cell_type": "markdown",
   "metadata": {},
   "source": [
    "# O dataframe esta \"pronto\" agora só questão de normalizar e rodar os algorítmos"
   ]
  },
  {
   "cell_type": "markdown",
   "metadata": {},
   "source": [
    "# Definindo target, features e dividindo treino e  teste"
   ]
  },
  {
   "cell_type": "code",
   "execution_count": 17,
   "metadata": {},
   "outputs": [
    {
     "name": "stderr",
     "output_type": "stream",
     "text": [
      "/home/gabs/anaconda3/envs/Tensorflow/lib/python3.6/site-packages/ipykernel_launcher.py:4: SettingWithCopyWarning: \n",
      "A value is trying to be set on a copy of a slice from a DataFrame.\n",
      "Try using .loc[row_indexer,col_indexer] = value instead\n",
      "\n",
      "See the caveats in the documentation: http://pandas.pydata.org/pandas-docs/stable/indexing.html#indexing-view-versus-copy\n",
      "  after removing the cwd from sys.path.\n",
      "/home/gabs/anaconda3/envs/Tensorflow/lib/python3.6/site-packages/ipykernel_launcher.py:5: SettingWithCopyWarning: \n",
      "A value is trying to be set on a copy of a slice from a DataFrame.\n",
      "Try using .loc[row_indexer,col_indexer] = value instead\n",
      "\n",
      "See the caveats in the documentation: http://pandas.pydata.org/pandas-docs/stable/indexing.html#indexing-view-versus-copy\n",
      "  \"\"\"\n"
     ]
    }
   ],
   "source": [
    "from sklearn.model_selection import train_test_split\n",
    "train, test = train_test_split(candles_no_NaN, test_size=round(len(candles_no_NaN)*0.2))\n",
    "\n",
    "train['target'] = pd.to_numeric(train['target'], downcast='float')\n",
    "test['target'] = pd.to_numeric(test['target'], downcast='float')\n",
    "\n",
    "features = ['Open', 'High', 'Low', 'Close', 'Volume', '30 Day MA',\n",
    "                   '30 Day STD', 'Upper Band', 'Lower Band', 'up_cross', 'down_cross',\n",
    "                   'EMA - 15', 'aaron down', 'aaron up', 'tenkansen', 'kijunsen',\n",
    "                   'momentun']\n",
    "\n",
    "x_train = train[features]\n",
    "y_train = train['target']\n",
    "x_test = test[features]\n",
    "y_test = test['target']\n"
   ]
  },
  {
   "cell_type": "markdown",
   "metadata": {},
   "source": [
    "# Início de testes com os algorítmos"
   ]
  },
  {
   "cell_type": "markdown",
   "metadata": {},
   "source": [
    "# Pipelines "
   ]
  },
  {
   "cell_type": "code",
   "execution_count": 45,
   "metadata": {},
   "outputs": [],
   "source": [
    "# Scallers pra padronizar os dados no momento testarei 2 nos pipelines\n",
    "from sklearn.preprocessing import StandardScaler\n",
    "from sklearn.preprocessing import MinMaxScaler\n",
    "\n",
    "# Validações e otimizações\n",
    "from sklearn.model_selection import cross_val_score\n",
    "from sklearn.metrics import confusion_matrix\n",
    "\n",
    "#pipelines e gridsearch\n",
    "from sklearn import preprocessing\n",
    "from sklearn.pipeline import make_pipeline\n",
    "from sklearn.model_selection import GridSearchCV\n",
    "from sklearn.pipeline import Pipeline\n",
    "\n",
    "#algoritmos\n",
    "from sklearn import svm\n",
    "from sklearn.ensemble import RandomForestClassifier\n",
    "from sklearn.ensemble import GradientBoostingClassifier\n",
    "from sklearn.ensemble import VotingClassifier\n",
    "from sklearn.ensemble import BaggingClassifier \n",
    "from sklearn.ensemble import AdaBoostClassifier\n",
    "\n",
    "from sklearn.linear_model import LogisticRegression\n",
    "from sklearn.neighbors import KNeighborsClassifier"
   ]
  },
  {
   "cell_type": "markdown",
   "metadata": {},
   "source": [
    "# Aqui só vou jogar no algorítmo algumas possibilidades com os parametros default...\n",
    "#### Como transformei o problema em classificação então vou começar com alguns algorítmos do scikit...\n",
    "\n",
    "#### Crio 3 pipelines e verifico a accuracia de todos com cross validation com 5 dobras\n",
    "\n",
    "\n",
    "+ pipeline 1 random forest com standart scaller\n",
    "+ pipeline 2 random forest com minmaxacaller\n",
    "+ pipeline 3 suport vector machines com minmaxscaller\n",
    "+ pipeline 4 gradient boosting com minmaxscaller"
   ]
  },
  {
   "cell_type": "code",
   "execution_count": 28,
   "metadata": {},
   "outputs": [
    {
     "data": {
      "text/plain": [
       "0.8356218684437863"
      ]
     },
     "execution_count": 28,
     "metadata": {},
     "output_type": "execute_result"
    }
   ],
   "source": [
    "pip_1 = Pipeline([\n",
    "    ('scaler',StandardScaler()),\n",
    "    ('clf', RandomForestClassifier())\n",
    "])\n",
    "\n",
    "pip_1.fit(x_train, y_train)\n",
    "np.mean(cross_val_score(pip_1, x_train, y_train, cv=5))"
   ]
  },
  {
   "cell_type": "code",
   "execution_count": 34,
   "metadata": {},
   "outputs": [
    {
     "data": {
      "text/plain": [
       "0.8112205356040972"
      ]
     },
     "execution_count": 34,
     "metadata": {},
     "output_type": "execute_result"
    }
   ],
   "source": [
    "pip_2 = Pipeline([\n",
    "    ('min_max_scaler', MinMaxScaler()),\n",
    "    ('clf', BaggingClassifier(RandomForestClassifier()))\n",
    "])\n",
    "\n",
    "pip_2.fit(x_train, y_train)\n",
    "np.mean(cross_val_score(pip_2, x_train, y_train, cv=5))"
   ]
  },
  {
   "cell_type": "code",
   "execution_count": 30,
   "metadata": {},
   "outputs": [
    {
     "data": {
      "text/plain": [
       "0.7676791311859805"
      ]
     },
     "execution_count": 30,
     "metadata": {},
     "output_type": "execute_result"
    }
   ],
   "source": [
    "pip_3 = Pipeline([\n",
    "    ('min_max_scaler', MinMaxScaler()),\n",
    "    ('clf', svm.SVC(gamma='scale'))\n",
    "])\n",
    "\n",
    "pip_2.fit(x_train, y_train)\n",
    "np.mean(cross_val_score(pip_2, x_train, y_train, cv=5))"
   ]
  },
  {
   "cell_type": "code",
   "execution_count": 31,
   "metadata": {},
   "outputs": [
    {
     "data": {
      "text/plain": [
       "0.8194757497223251"
      ]
     },
     "execution_count": 31,
     "metadata": {},
     "output_type": "execute_result"
    }
   ],
   "source": [
    "pip_4 = Pipeline([\n",
    "    ('min_max_scaler', MinMaxScaler()),\n",
    "    ('clf', GradientBoostingClassifier())\n",
    "])\n",
    "\n",
    "pip_2.fit(x_train, y_train)\n",
    "np.mean(cross_val_score(pip_2, x_train, y_train, cv=5))"
   ]
  },
  {
   "cell_type": "markdown",
   "metadata": {},
   "source": [
    "### Como esperado por enquanto o GradientBoosting se saiu melhor, porém esses modelos são muito instáveis por enquanto, vai melhorar com aumento do dataset, feature selection e gradient search (um dia...)"
   ]
  },
  {
   "cell_type": "markdown",
   "metadata": {},
   "source": [
    "# Agora vou criar uma pool de threads pra automatizar essas paradas"
   ]
  },
  {
   "cell_type": "code",
   "execution_count": 128,
   "metadata": {},
   "outputs": [
    {
     "ename": "NameError",
     "evalue": "name 'Standart' is not defined",
     "output_type": "error",
     "traceback": [
      "\u001b[0;31m---------------------------------------------------------------------------\u001b[0m",
      "\u001b[0;31mNameError\u001b[0m                                 Traceback (most recent call last)",
      "\u001b[0;32m<ipython-input-128-4c3ee60f016a>\u001b[0m in \u001b[0;36m<module>\u001b[0;34m\u001b[0m\n\u001b[1;32m     13\u001b[0m \u001b[0;31m# random forest + minmax + bagging\u001b[0m\u001b[0;34m\u001b[0m\u001b[0;34m\u001b[0m\u001b[0;34m\u001b[0m\u001b[0m\n\u001b[1;32m     14\u001b[0m pip_3 = Pipeline([\n\u001b[0;32m---> 15\u001b[0;31m     \u001b[0;34m(\u001b[0m\u001b[0;34m'min_max_scaler'\u001b[0m\u001b[0;34m,\u001b[0m \u001b[0mStandart\u001b[0m\u001b[0;34m(\u001b[0m\u001b[0;34m)\u001b[0m\u001b[0;34m)\u001b[0m\u001b[0;34m,\u001b[0m\u001b[0;34m\u001b[0m\u001b[0;34m\u001b[0m\u001b[0m\n\u001b[0m\u001b[1;32m     16\u001b[0m     \u001b[0;34m(\u001b[0m\u001b[0;34m'clf'\u001b[0m\u001b[0;34m,\u001b[0m \u001b[0mBaggingClassifier\u001b[0m\u001b[0;34m(\u001b[0m\u001b[0mRandomForestClassifier\u001b[0m\u001b[0;34m(\u001b[0m\u001b[0;34m)\u001b[0m\u001b[0;34m)\u001b[0m\u001b[0;34m)\u001b[0m\u001b[0;34m\u001b[0m\u001b[0;34m\u001b[0m\u001b[0m\n\u001b[1;32m     17\u001b[0m ])\n",
      "\u001b[0;31mNameError\u001b[0m: name 'Standart' is not defined"
     ]
    }
   ],
   "source": [
    "# random forest - standart\n",
    "pip_1 = Pipeline([\n",
    "    ('scaler',StandardScaler()),\n",
    "    ('clf', RandomForestClassifier())\n",
    "])\n",
    "\n",
    "# random forest + minmax + bagging\n",
    "pip_2 = Pipeline([\n",
    "    ('min_max_scaler', MinMaxScaler()),\n",
    "    ('clf', BaggingClassifier(RandomForestClassifier()))\n",
    "])\n",
    "\n",
    "# random forest + minmax + bagging\n",
    "pip_3 = Pipeline([\n",
    "    ('min_max_scaler', Standart()),\n",
    "    ('clf', BaggingClassifier(RandomForestClassifier()))\n",
    "])\n",
    "\n",
    "# svc + minmax\n",
    "#pip_3 = Pipeline([\n",
    "#    ('min_max_scaler', MinMaxScaler()),\n",
    "#    ('clf', svm.SVC(gamma='scale'))\n",
    "#])\n",
    "\n",
    "# gradient + minmax\n",
    "pip_4 = Pipeline([\n",
    "    ('min_max_scaler', MinMaxScaler()),\n",
    "    ('clf', GradientBoostingClassifier())\n",
    "])\n",
    "\n",
    "#ada boost + standart \n",
    "pip_5 = Pipeline([\n",
    "    ('scaler',StandardScaler()),\n",
    "    ('clf', AdaBoostClassifier())\n",
    "])\n",
    "\n",
    "# adaboost minmax + bagging\n",
    "pip_6 = Pipeline([\n",
    "    ('scaler',MinMaxScaler()),\n",
    "    ('clf', BaggingClassifier(AdaBoostClassifier()))\n",
    "])\n",
    "\n",
    "pip_7 = Pipeline([\n",
    "    ('scaler',StandardScaler()),\n",
    "    ('clf', BaggingClassifier(AdaBoostClassifier()))\n",
    "])\n",
    "\n",
    "#bagging + voting\n",
    "pip_8 = Pipeline([\n",
    "    ('scaler',MinMaxScaler()),\n",
    "    ('clf',  BaggingClassifier(KNeighborsClassifier()))\n",
    "])\n",
    "\n",
    "\n",
    "pip_9 = Pipeline([\n",
    "    ('scaler',StandardScaler()),\n",
    "    ('clf', KNeighborsClassifier())\n",
    "])\n",
    "\n",
    "\n",
    "pip_10 = Pipeline([\n",
    "    ('scaler',StandardScaler()),\n",
    "    ('clf', LogisticRegression())\n",
    "])"
   ]
  },
  {
   "cell_type": "code",
   "execution_count": 129,
   "metadata": {},
   "outputs": [],
   "source": [
    "results = []\n",
    "\n",
    "import threading\n",
    "class Threads (threading.Thread):\n",
    "    def __init__(self, threadID, pipeline):\n",
    "        threading.Thread.__init__(self)\n",
    "        self.threadID = threadID\n",
    "        self.pipeline = pipeline\n",
    "    \n",
    "    def run(self):\n",
    "        print(\"Started thread \" + str(self.name))    \n",
    "        self.evalModel()\n",
    "    \n",
    "    def evalModel(self):\n",
    "        self.pipeline.fit(x_train, y_train)\n",
    "        \n",
    "        print( '\\n---------------------------------------------------------------------\\n ' +\n",
    "              str(self.pipeline) + '\\n RESULT ' + \n",
    "              str(np.mean(cross_val_score(self.pipeline, x_train, y_train, cv=5))) +\n",
    "             '\\n---------------------------------------------------------------------\\n')"
   ]
  },
  {
   "cell_type": "code",
   "execution_count": 126,
   "metadata": {},
   "outputs": [],
   "source": [
    "class Process():\n",
    "    def __init__(self):\n",
    "        self.pipelines = [pip_1, pip_2, pip_3, pip_4, pip_5, pip_6, pip_7, pip_8, pip_9, pip_10]\n",
    "        self.threads = []\n",
    "\n",
    "    def startProcess(self):\n",
    "        print(\"Iniciando Treinamentos\")\n",
    "        self.createThreads()\n",
    "        self.startThreads()\n",
    "        self.checkThreads()\n",
    "        \n",
    "    def createThreads(self):\n",
    "        for x in range (0, len(self.pipelines)):\n",
    "            self.threads.append(Threads(x, self.pipelines[x]))\n",
    "        print(\"Foram criadas \" + str(len(self.threads)) + \" threads\")\n",
    "        \n",
    "    def startThreads(self):\n",
    "        for thread in self.threads:\n",
    "            thread.start()\n",
    "    \n",
    "    def checkThreads(self):\n",
    "        i = True\n",
    "        while(i):\n",
    "            if (all(thread.is_alive() == False for thread in self.threads)):\n",
    "                i = False\n",
    "                print(\"Threads terminadas\")\n",
    "            else:\n",
    "                time.sleep(2)"
   ]
  },
  {
   "cell_type": "code",
   "execution_count": 127,
   "metadata": {
    "scrolled": false
   },
   "outputs": [
    {
     "name": "stdout",
     "output_type": "stream",
     "text": [
      "Iniciando Treinamentos\n",
      "Foram criadas 10 threads\n",
      "Started thread Thread-195\n",
      "Started thread Thread-196\n",
      "Started thread Thread-197\n",
      "Started thread Thread-198\n",
      "Started thread Thread-199\n",
      "Started thread Thread-200\n",
      "Started thread Thread-201\n",
      "Started thread Thread-202\n",
      "Started thread Thread-203\n",
      "Started thread Thread-204\n",
      "\n",
      "---------------------------------------------------------------------\n",
      " Pipeline(memory=None,\n",
      "     steps=[('scaler', StandardScaler(copy=True, with_mean=True, with_std=True)), ('clf', KNeighborsClassifier(algorithm='auto', leaf_size=30, metric='minkowski',\n",
      "           metric_params=None, n_jobs=1, n_neighbors=5, p=2,\n",
      "           weights='uniform'))])\n",
      " RESULT 0.7569754411946192\n",
      "---------------------------------------------------------------------\n",
      "\n",
      "\n",
      "---------------------------------------------------------------------\n",
      " Pipeline(memory=None,\n",
      "     steps=[('scaler', StandardScaler(copy=True, with_mean=True, with_std=True)), ('clf', LogisticRegression(C=1.0, class_weight=None, dual=False, fit_intercept=True,\n",
      "          intercept_scaling=1, max_iter=100, multi_class='ovr', n_jobs=1,\n",
      "          penalty='l2', random_state=None, solver='liblinear', tol=0.0001,\n",
      "          verbose=0, warm_start=False))])\n",
      " RESULT 0.6191188448722695\n",
      "---------------------------------------------------------------------\n",
      "\n"
     ]
    },
    {
     "name": "stderr",
     "output_type": "stream",
     "text": [
      "/home/gabs/anaconda3/envs/Tensorflow/lib/python3.6/site-packages/sklearn/externals/joblib/parallel.py:547: UserWarning: Multiprocessing-backed parallel loops cannot be nested below threads, setting n_jobs=1\n",
      "  **self._backend_args)\n",
      "/home/gabs/anaconda3/envs/Tensorflow/lib/python3.6/site-packages/sklearn/externals/joblib/parallel.py:547: UserWarning: Multiprocessing-backed parallel loops cannot be nested below threads, setting n_jobs=1\n",
      "  **self._backend_args)\n",
      "Exception in thread Thread-197:\n",
      "Traceback (most recent call last):\n",
      "  File \"/home/gabs/anaconda3/envs/Tensorflow/lib/python3.6/threading.py\", line 916, in _bootstrap_inner\n",
      "    self.run()\n",
      "  File \"<ipython-input-125-56de3be08799>\", line 12, in run\n",
      "    self.evalModel()\n",
      "  File \"<ipython-input-125-56de3be08799>\", line 15, in evalModel\n",
      "    self.pipeline.fit(x_train, y_train)\n",
      "  File \"/home/gabs/anaconda3/envs/Tensorflow/lib/python3.6/site-packages/sklearn/pipeline.py\", line 250, in fit\n",
      "    self._final_estimator.fit(Xt, y, **fit_params)\n",
      "  File \"/home/gabs/anaconda3/envs/Tensorflow/lib/python3.6/site-packages/sklearn/svm/base.py\", line 187, in fit\n",
      "    fit(X, y, sample_weight, solver_type, kernel, random_seed=seed)\n",
      "  File \"/home/gabs/anaconda3/envs/Tensorflow/lib/python3.6/site-packages/sklearn/svm/base.py\", line 254, in _dense_fit\n",
      "    max_iter=self.max_iter, random_seed=random_seed)\n",
      "  File \"sklearn/svm/libsvm.pyx\", line 58, in sklearn.svm.libsvm.fit\n",
      "TypeError: must be real number, not str\n",
      "\n",
      "/home/gabs/anaconda3/envs/Tensorflow/lib/python3.6/site-packages/sklearn/externals/joblib/parallel.py:547: UserWarning: Multiprocessing-backed parallel loops cannot be nested below threads, setting n_jobs=1\n",
      "  **self._backend_args)\n",
      "/home/gabs/anaconda3/envs/Tensorflow/lib/python3.6/site-packages/sklearn/externals/joblib/parallel.py:547: UserWarning: Multiprocessing-backed parallel loops cannot be nested below threads, setting n_jobs=1\n",
      "  **self._backend_args)\n",
      "/home/gabs/anaconda3/envs/Tensorflow/lib/python3.6/site-packages/sklearn/externals/joblib/parallel.py:547: UserWarning: Multiprocessing-backed parallel loops cannot be nested below threads, setting n_jobs=1\n",
      "  **self._backend_args)\n",
      "/home/gabs/anaconda3/envs/Tensorflow/lib/python3.6/site-packages/sklearn/externals/joblib/parallel.py:547: UserWarning: Multiprocessing-backed parallel loops cannot be nested below threads, setting n_jobs=1\n",
      "  **self._backend_args)\n",
      "/home/gabs/anaconda3/envs/Tensorflow/lib/python3.6/site-packages/sklearn/externals/joblib/parallel.py:547: UserWarning: Multiprocessing-backed parallel loops cannot be nested below threads, setting n_jobs=1\n",
      "  **self._backend_args)\n",
      "/home/gabs/anaconda3/envs/Tensorflow/lib/python3.6/site-packages/sklearn/externals/joblib/parallel.py:547: UserWarning: Multiprocessing-backed parallel loops cannot be nested below threads, setting n_jobs=1\n",
      "  **self._backend_args)\n",
      "/home/gabs/anaconda3/envs/Tensorflow/lib/python3.6/site-packages/sklearn/externals/joblib/parallel.py:547: UserWarning: Multiprocessing-backed parallel loops cannot be nested below threads, setting n_jobs=1\n",
      "  **self._backend_args)\n",
      "/home/gabs/anaconda3/envs/Tensorflow/lib/python3.6/site-packages/sklearn/externals/joblib/parallel.py:547: UserWarning: Multiprocessing-backed parallel loops cannot be nested below threads, setting n_jobs=1\n",
      "  **self._backend_args)\n",
      "/home/gabs/anaconda3/envs/Tensorflow/lib/python3.6/site-packages/sklearn/externals/joblib/parallel.py:547: UserWarning: Multiprocessing-backed parallel loops cannot be nested below threads, setting n_jobs=1\n",
      "  **self._backend_args)\n",
      "/home/gabs/anaconda3/envs/Tensorflow/lib/python3.6/site-packages/sklearn/externals/joblib/parallel.py:547: UserWarning: Multiprocessing-backed parallel loops cannot be nested below threads, setting n_jobs=1\n",
      "  **self._backend_args)\n",
      "/home/gabs/anaconda3/envs/Tensorflow/lib/python3.6/site-packages/sklearn/externals/joblib/parallel.py:547: UserWarning: Multiprocessing-backed parallel loops cannot be nested below threads, setting n_jobs=1\n",
      "  **self._backend_args)\n",
      "/home/gabs/anaconda3/envs/Tensorflow/lib/python3.6/site-packages/sklearn/externals/joblib/parallel.py:547: UserWarning: Multiprocessing-backed parallel loops cannot be nested below threads, setting n_jobs=1\n",
      "  **self._backend_args)\n",
      "/home/gabs/anaconda3/envs/Tensorflow/lib/python3.6/site-packages/sklearn/externals/joblib/parallel.py:547: UserWarning: Multiprocessing-backed parallel loops cannot be nested below threads, setting n_jobs=1\n",
      "  **self._backend_args)\n",
      "/home/gabs/anaconda3/envs/Tensorflow/lib/python3.6/site-packages/sklearn/externals/joblib/parallel.py:547: UserWarning: Multiprocessing-backed parallel loops cannot be nested below threads, setting n_jobs=1\n",
      "  **self._backend_args)\n",
      "/home/gabs/anaconda3/envs/Tensorflow/lib/python3.6/site-packages/sklearn/externals/joblib/parallel.py:547: UserWarning: Multiprocessing-backed parallel loops cannot be nested below threads, setting n_jobs=1\n",
      "  **self._backend_args)\n",
      "/home/gabs/anaconda3/envs/Tensorflow/lib/python3.6/site-packages/sklearn/externals/joblib/parallel.py:547: UserWarning: Multiprocessing-backed parallel loops cannot be nested below threads, setting n_jobs=1\n",
      "  **self._backend_args)\n"
     ]
    },
    {
     "name": "stdout",
     "output_type": "stream",
     "text": [
      "\n",
      "---------------------------------------------------------------------\n",
      " Pipeline(memory=None,\n",
      "     steps=[('scaler', MinMaxScaler(copy=True, feature_range=(0, 1))), ('clf', BaggingClassifier(base_estimator=KNeighborsClassifier(algorithm='auto', leaf_size=30, metric='minkowski',\n",
      "           metric_params=None, n_jobs=1, n_neighbors=5, p=2,\n",
      "           weights='uniform'),\n",
      "         bootstrap=True, bootstrap_features=False, max_features=1.0,\n",
      "         max_samples=1.0, n_estimators=10, n_jobs=1, oob_score=False,\n",
      "         random_state=None, verbose=0, warm_start=False))])\n",
      " RESULT 0.7487202270763914\n",
      "---------------------------------------------------------------------\n",
      "\n",
      "\n",
      "---------------------------------------------------------------------\n",
      " Pipeline(memory=None,\n",
      "     steps=[('scaler', StandardScaler(copy=True, with_mean=True, with_std=True)), ('clf', RandomForestClassifier(bootstrap=True, class_weight=None, criterion='gini',\n",
      "            max_depth=None, max_features='auto', max_leaf_nodes=None,\n",
      "            min_impurity_decrease=0.0, min_impurity_split=None,\n",
      "     ...n_jobs=1,\n",
      "            oob_score=False, random_state=None, verbose=0,\n",
      "            warm_start=False))])\n",
      " RESULT 0.8247720597309639\n",
      "---------------------------------------------------------------------\n",
      "\n"
     ]
    },
    {
     "name": "stderr",
     "output_type": "stream",
     "text": [
      "/home/gabs/anaconda3/envs/Tensorflow/lib/python3.6/site-packages/sklearn/externals/joblib/parallel.py:547: UserWarning: Multiprocessing-backed parallel loops cannot be nested below threads, setting n_jobs=1\n",
      "  **self._backend_args)\n",
      "/home/gabs/anaconda3/envs/Tensorflow/lib/python3.6/site-packages/sklearn/externals/joblib/parallel.py:547: UserWarning: Multiprocessing-backed parallel loops cannot be nested below threads, setting n_jobs=1\n",
      "  **self._backend_args)\n",
      "/home/gabs/anaconda3/envs/Tensorflow/lib/python3.6/site-packages/sklearn/externals/joblib/parallel.py:547: UserWarning: Multiprocessing-backed parallel loops cannot be nested below threads, setting n_jobs=1\n",
      "  **self._backend_args)\n",
      "/home/gabs/anaconda3/envs/Tensorflow/lib/python3.6/site-packages/sklearn/externals/joblib/parallel.py:547: UserWarning: Multiprocessing-backed parallel loops cannot be nested below threads, setting n_jobs=1\n",
      "  **self._backend_args)\n",
      "/home/gabs/anaconda3/envs/Tensorflow/lib/python3.6/site-packages/sklearn/externals/joblib/parallel.py:547: UserWarning: Multiprocessing-backed parallel loops cannot be nested below threads, setting n_jobs=1\n",
      "  **self._backend_args)\n"
     ]
    },
    {
     "name": "stdout",
     "output_type": "stream",
     "text": [
      "\n",
      "---------------------------------------------------------------------\n",
      " Pipeline(memory=None,\n",
      "     steps=[('scaler', StandardScaler(copy=True, with_mean=True, with_std=True)), ('clf', AdaBoostClassifier(algorithm='SAMME.R', base_estimator=None,\n",
      "          learning_rate=1.0, n_estimators=50, random_state=None))])\n",
      " RESULT 0.805631988152536\n",
      "---------------------------------------------------------------------\n",
      "\n"
     ]
    },
    {
     "name": "stderr",
     "output_type": "stream",
     "text": [
      "/home/gabs/anaconda3/envs/Tensorflow/lib/python3.6/site-packages/sklearn/externals/joblib/parallel.py:547: UserWarning: Multiprocessing-backed parallel loops cannot be nested below threads, setting n_jobs=1\n",
      "  **self._backend_args)\n",
      "/home/gabs/anaconda3/envs/Tensorflow/lib/python3.6/site-packages/sklearn/externals/joblib/parallel.py:547: UserWarning: Multiprocessing-backed parallel loops cannot be nested below threads, setting n_jobs=1\n",
      "  **self._backend_args)\n",
      "/home/gabs/anaconda3/envs/Tensorflow/lib/python3.6/site-packages/sklearn/externals/joblib/parallel.py:547: UserWarning: Multiprocessing-backed parallel loops cannot be nested below threads, setting n_jobs=1\n",
      "  **self._backend_args)\n",
      "/home/gabs/anaconda3/envs/Tensorflow/lib/python3.6/site-packages/sklearn/externals/joblib/parallel.py:547: UserWarning: Multiprocessing-backed parallel loops cannot be nested below threads, setting n_jobs=1\n",
      "  **self._backend_args)\n",
      "/home/gabs/anaconda3/envs/Tensorflow/lib/python3.6/site-packages/sklearn/externals/joblib/parallel.py:547: UserWarning: Multiprocessing-backed parallel loops cannot be nested below threads, setting n_jobs=1\n",
      "  **self._backend_args)\n",
      "/home/gabs/anaconda3/envs/Tensorflow/lib/python3.6/site-packages/sklearn/externals/joblib/parallel.py:547: UserWarning: Multiprocessing-backed parallel loops cannot be nested below threads, setting n_jobs=1\n",
      "  **self._backend_args)\n",
      "/home/gabs/anaconda3/envs/Tensorflow/lib/python3.6/site-packages/sklearn/externals/joblib/parallel.py:547: UserWarning: Multiprocessing-backed parallel loops cannot be nested below threads, setting n_jobs=1\n",
      "  **self._backend_args)\n",
      "/home/gabs/anaconda3/envs/Tensorflow/lib/python3.6/site-packages/sklearn/externals/joblib/parallel.py:547: UserWarning: Multiprocessing-backed parallel loops cannot be nested below threads, setting n_jobs=1\n",
      "  **self._backend_args)\n",
      "/home/gabs/anaconda3/envs/Tensorflow/lib/python3.6/site-packages/sklearn/externals/joblib/parallel.py:547: UserWarning: Multiprocessing-backed parallel loops cannot be nested below threads, setting n_jobs=1\n",
      "  **self._backend_args)\n",
      "/home/gabs/anaconda3/envs/Tensorflow/lib/python3.6/site-packages/sklearn/externals/joblib/parallel.py:547: UserWarning: Multiprocessing-backed parallel loops cannot be nested below threads, setting n_jobs=1\n",
      "  **self._backend_args)\n"
     ]
    },
    {
     "name": "stdout",
     "output_type": "stream",
     "text": [
      "\n",
      "---------------------------------------------------------------------\n",
      " Pipeline(memory=None,\n",
      "     steps=[('min_max_scaler', MinMaxScaler(copy=True, feature_range=(0, 1))), ('clf', GradientBoostingClassifier(criterion='friedman_mse', init=None,\n",
      "              learning_rate=0.1, loss='deviance', max_depth=3,\n",
      "              max_features=None, max_leaf_nodes=None,\n",
      "              min_impurity_decrease=0...      presort='auto', random_state=None, subsample=1.0, verbose=0,\n",
      "              warm_start=False))])\n",
      " RESULT 0.8218151301986918\n",
      "---------------------------------------------------------------------\n",
      "\n"
     ]
    },
    {
     "name": "stderr",
     "output_type": "stream",
     "text": [
      "/home/gabs/anaconda3/envs/Tensorflow/lib/python3.6/site-packages/sklearn/externals/joblib/parallel.py:547: UserWarning: Multiprocessing-backed parallel loops cannot be nested below threads, setting n_jobs=1\n",
      "  **self._backend_args)\n"
     ]
    },
    {
     "name": "stdout",
     "output_type": "stream",
     "text": [
      "\n",
      "---------------------------------------------------------------------\n",
      " Pipeline(memory=None,\n",
      "     steps=[('min_max_scaler', MinMaxScaler(copy=True, feature_range=(0, 1))), ('clf', BaggingClassifier(base_estimator=RandomForestClassifier(bootstrap=True, class_weight=None, criterion='gini',\n",
      "            max_depth=None, max_features='auto', max_leaf_nodes=None,\n",
      "            min_impurity_decrease=0.0, ...estimators=10, n_jobs=1, oob_score=False,\n",
      "         random_state=None, verbose=0, warm_start=False))])\n",
      " RESULT 0.8138511662347279\n",
      "---------------------------------------------------------------------\n",
      "\n"
     ]
    },
    {
     "name": "stderr",
     "output_type": "stream",
     "text": [
      "/home/gabs/anaconda3/envs/Tensorflow/lib/python3.6/site-packages/sklearn/externals/joblib/parallel.py:547: UserWarning: Multiprocessing-backed parallel loops cannot be nested below threads, setting n_jobs=1\n",
      "  **self._backend_args)\n",
      "/home/gabs/anaconda3/envs/Tensorflow/lib/python3.6/site-packages/sklearn/externals/joblib/parallel.py:547: UserWarning: Multiprocessing-backed parallel loops cannot be nested below threads, setting n_jobs=1\n",
      "  **self._backend_args)\n",
      "/home/gabs/anaconda3/envs/Tensorflow/lib/python3.6/site-packages/sklearn/externals/joblib/parallel.py:547: UserWarning: Multiprocessing-backed parallel loops cannot be nested below threads, setting n_jobs=1\n",
      "  **self._backend_args)\n",
      "/home/gabs/anaconda3/envs/Tensorflow/lib/python3.6/site-packages/sklearn/externals/joblib/parallel.py:547: UserWarning: Multiprocessing-backed parallel loops cannot be nested below threads, setting n_jobs=1\n",
      "  **self._backend_args)\n",
      "/home/gabs/anaconda3/envs/Tensorflow/lib/python3.6/site-packages/sklearn/externals/joblib/parallel.py:547: UserWarning: Multiprocessing-backed parallel loops cannot be nested below threads, setting n_jobs=1\n",
      "  **self._backend_args)\n",
      "/home/gabs/anaconda3/envs/Tensorflow/lib/python3.6/site-packages/sklearn/externals/joblib/parallel.py:547: UserWarning: Multiprocessing-backed parallel loops cannot be nested below threads, setting n_jobs=1\n",
      "  **self._backend_args)\n",
      "/home/gabs/anaconda3/envs/Tensorflow/lib/python3.6/site-packages/sklearn/externals/joblib/parallel.py:547: UserWarning: Multiprocessing-backed parallel loops cannot be nested below threads, setting n_jobs=1\n",
      "  **self._backend_args)\n",
      "/home/gabs/anaconda3/envs/Tensorflow/lib/python3.6/site-packages/sklearn/externals/joblib/parallel.py:547: UserWarning: Multiprocessing-backed parallel loops cannot be nested below threads, setting n_jobs=1\n",
      "  **self._backend_args)\n",
      "/home/gabs/anaconda3/envs/Tensorflow/lib/python3.6/site-packages/sklearn/externals/joblib/parallel.py:547: UserWarning: Multiprocessing-backed parallel loops cannot be nested below threads, setting n_jobs=1\n",
      "  **self._backend_args)\n",
      "/home/gabs/anaconda3/envs/Tensorflow/lib/python3.6/site-packages/sklearn/externals/joblib/parallel.py:547: UserWarning: Multiprocessing-backed parallel loops cannot be nested below threads, setting n_jobs=1\n",
      "  **self._backend_args)\n",
      "/home/gabs/anaconda3/envs/Tensorflow/lib/python3.6/site-packages/sklearn/externals/joblib/parallel.py:547: UserWarning: Multiprocessing-backed parallel loops cannot be nested below threads, setting n_jobs=1\n",
      "  **self._backend_args)\n",
      "/home/gabs/anaconda3/envs/Tensorflow/lib/python3.6/site-packages/sklearn/externals/joblib/parallel.py:547: UserWarning: Multiprocessing-backed parallel loops cannot be nested below threads, setting n_jobs=1\n",
      "  **self._backend_args)\n",
      "/home/gabs/anaconda3/envs/Tensorflow/lib/python3.6/site-packages/sklearn/externals/joblib/parallel.py:547: UserWarning: Multiprocessing-backed parallel loops cannot be nested below threads, setting n_jobs=1\n",
      "  **self._backend_args)\n",
      "/home/gabs/anaconda3/envs/Tensorflow/lib/python3.6/site-packages/sklearn/externals/joblib/parallel.py:547: UserWarning: Multiprocessing-backed parallel loops cannot be nested below threads, setting n_jobs=1\n",
      "  **self._backend_args)\n",
      "/home/gabs/anaconda3/envs/Tensorflow/lib/python3.6/site-packages/sklearn/externals/joblib/parallel.py:547: UserWarning: Multiprocessing-backed parallel loops cannot be nested below threads, setting n_jobs=1\n",
      "  **self._backend_args)\n",
      "/home/gabs/anaconda3/envs/Tensorflow/lib/python3.6/site-packages/sklearn/externals/joblib/parallel.py:547: UserWarning: Multiprocessing-backed parallel loops cannot be nested below threads, setting n_jobs=1\n",
      "  **self._backend_args)\n",
      "/home/gabs/anaconda3/envs/Tensorflow/lib/python3.6/site-packages/sklearn/externals/joblib/parallel.py:547: UserWarning: Multiprocessing-backed parallel loops cannot be nested below threads, setting n_jobs=1\n",
      "  **self._backend_args)\n"
     ]
    },
    {
     "name": "stdout",
     "output_type": "stream",
     "text": [
      "\n",
      "---------------------------------------------------------------------\n",
      " Pipeline(memory=None,\n",
      "     steps=[('scaler', MinMaxScaler(copy=True, feature_range=(0, 1))), ('clf', BaggingClassifier(base_estimator=AdaBoostClassifier(algorithm='SAMME.R', base_estimator=None,\n",
      "          learning_rate=1.0, n_estimators=50, random_state=None),\n",
      "         bootstrap=True, bootstrap_features=False, max_features=1.0,\n",
      "         max_samples=1.0, n_estimators=10, n_jobs=1, oob_score=False,\n",
      "         random_state=None, verbose=0, warm_start=False))])\n",
      " RESULT 0.7949643341972109\n",
      "---------------------------------------------------------------------\n",
      "\n",
      "\n",
      "---------------------------------------------------------------------\n",
      " Pipeline(memory=None,\n",
      "     steps=[('scaler', StandardScaler(copy=True, with_mean=True, with_std=True)), ('clf', BaggingClassifier(base_estimator=AdaBoostClassifier(algorithm='SAMME.R', base_estimator=None,\n",
      "          learning_rate=1.0, n_estimators=50, random_state=None),\n",
      "         bootstrap=True, bootstrap_features=False, max_features=1.0,\n",
      "         max_samples=1.0, n_estimators=10, n_jobs=1, oob_score=False,\n",
      "         random_state=None, verbose=0, warm_start=False))])\n",
      " RESULT 0.7677512032580526\n",
      "---------------------------------------------------------------------\n",
      "\n",
      "Threads terminadas\n"
     ]
    }
   ],
   "source": [
    "import warnings\n",
    "warnings.filterwarnings('ignore')\n",
    "\n",
    "pc = Process()\n",
    "pc.startProcess()"
   ]
  },
  {
   "cell_type": "markdown",
   "metadata": {},
   "source": [
    "# =============================================================="
   ]
  },
  {
   "cell_type": "markdown",
   "metadata": {},
   "source": [
    "# Programação das rotinas do bot ignorar daqui pra baixo, tudo em construção"
   ]
  },
  {
   "cell_type": "code",
   "execution_count": 23,
   "metadata": {},
   "outputs": [],
   "source": [
    "class Orders(object):\n",
    "    def createOrder(self, side=SIDE_BUY, quantity=100, price='0.00001'):\n",
    "        try:\n",
    "            order = Client.create_test_order(\n",
    "            symbol='USDTBTC',\n",
    "            side=side,\n",
    "            type=ORDER_TYPE_LIMIT,\n",
    "            timeInForce=TIME_IN_FORCE_GTC,\n",
    "            quantity=quantity,\n",
    "            price=price)\n",
    "        except:\n",
    "            print('erro create order')\n",
    "        \n",
    "    def loginAPI(self):\n",
    "        pass\n",
    "    \n",
    "\n",
    "class Bot(object):\n",
    "    def __init__(self):\n",
    "        self.botStatus = {\n",
    "            'openOrder':'none',\n",
    "            'lastOperation':'sell',\n",
    "        }\n",
    "    \n",
    "    def checkStrategy(self):\n",
    "        bb = Bbands()\n",
    "        return bb.generateSignal()\n",
    "    \n",
    "    def checkSignal(self):\n",
    "        signal = self.checkStrategy()\n",
    "        if(signal == 'buy'):\n",
    "            self.updateStatus('yes', signal)\n",
    "        if (signal == 'sell'):\n",
    "            self.updateStatus('no', signal)\n",
    "        else:\n",
    "            pass\n",
    "    \n",
    "    def updateStatus(self, status, operation):\n",
    "        self.botStatus['openOrder'] = status\n",
    "        self.botStatus['lastOperation'] = operation"
   ]
  },
  {
   "cell_type": "code",
   "execution_count": 24,
   "metadata": {},
   "outputs": [
    {
     "ename": "NameError",
     "evalue": "name 'aq' is not defined",
     "output_type": "error",
     "traceback": [
      "\u001b[0;31m---------------------------------------------------------------------------\u001b[0m",
      "\u001b[0;31mNameError\u001b[0m                                 Traceback (most recent call last)",
      "\u001b[0;32m<ipython-input-24-e0ea72b8e427>\u001b[0m in \u001b[0;36m<module>\u001b[0;34m\u001b[0m\n\u001b[1;32m      2\u001b[0m \u001b[0;32mfrom\u001b[0m \u001b[0mIPython\u001b[0m\u001b[0;34m.\u001b[0m\u001b[0mdisplay\u001b[0m \u001b[0;32mimport\u001b[0m \u001b[0mclear_output\u001b[0m\u001b[0;34m\u001b[0m\u001b[0;34m\u001b[0m\u001b[0m\n\u001b[1;32m      3\u001b[0m \u001b[0;34m\u001b[0m\u001b[0m\n\u001b[0;32m----> 4\u001b[0;31m \u001b[0maq\u001b[0m\u001b[0;34m.\u001b[0m\u001b[0mgetCandles\u001b[0m\u001b[0;34m(\u001b[0m\u001b[0;34m)\u001b[0m\u001b[0;34m\u001b[0m\u001b[0;34m\u001b[0m\u001b[0m\n\u001b[0m\u001b[1;32m      5\u001b[0m \u001b[0maq\u001b[0m\u001b[0;34m.\u001b[0m\u001b[0mplotCandles\u001b[0m\u001b[0;34m(\u001b[0m\u001b[0;34m)\u001b[0m\u001b[0;34m\u001b[0m\u001b[0;34m\u001b[0m\u001b[0m\n\u001b[1;32m      6\u001b[0m \u001b[0;34m\u001b[0m\u001b[0m\n",
      "\u001b[0;31mNameError\u001b[0m: name 'aq' is not defined"
     ]
    }
   ],
   "source": [
    "#main thread\n",
    "from IPython.display import clear_output\n",
    "\n",
    "aq.getCandles()\n",
    "aq.plotCandles()\n",
    "\n",
    "bot = Bot()\n",
    "runtime = 0\n",
    "while(True):\n",
    "    bot.checkSignal()\n",
    "    clear_output()\n",
    "    print('Runtime = %s seconds' % (runtime))\n",
    "    time.sleep(2)\n",
    "    runtime += 2"
   ]
  },
  {
   "cell_type": "markdown",
   "metadata": {},
   "source": [
    "# Criar sinal com decision (não usada so pro bot mais alem)"
   ]
  },
  {
   "cell_type": "code",
   "execution_count": 121,
   "metadata": {},
   "outputs": [],
   "source": [
    "import io\n",
    "from scipy import misc\n",
    "from sklearn import tree # pack age tree \n",
    "from sklearn.metrics import accuracy_score # medir % acerto\n",
    "from sklearn.model_selection import train_test_split # cortar dataset\n",
    "from sklearn.tree import DecisionTreeClassifier, export_graphviz # arvore de decixao classificacao e graphviz para visualizar\n",
    "import pydotplus\n",
    "\n",
    "class Dct(object):\n",
    "    def __init__(self, candles):\n",
    "        self.candles = candles\n",
    "        self.train = None\n",
    "        self.test = None\n",
    "        self.tree = None\n",
    "        self.features = []\n",
    "        self.xtrain = None\n",
    "        self.ytrain = None\n",
    "        self.xtest = None\n",
    "        self.ytest = None\n",
    "        self.fitted = None\n",
    "\n",
    "    def split(self):\n",
    "        self.train, self.test = train_test_split(self.candles, test_size=round(len(self.candles)*0.2))\n",
    "    \n",
    "    def castTarget(self):\n",
    "        self.train['target'] = pd.to_numeric(self.train['target'], downcast='float')\n",
    "        self.test['target'] = pd.to_numeric(self.test['target'], downcast='float')\n",
    "        \n",
    "    def createTree(self):\n",
    "        self.tree = DecisionTreeClassifier(min_samples_split=100)\n",
    "    \n",
    "    def createFeatures(self):\n",
    "        self.features = ['Open', 'High', 'Low', 'Close', 'Volume', '30 Day MA',\n",
    "                   '30 Day STD', 'Upper Band', 'Lower Band', #'up_cross', 'down_cross',\n",
    "                   'EMA - 15', 'aaron down', 'aaron up', 'tenkansen', 'kijunsen',\n",
    "                   'momentun']\n",
    "        \n",
    "    def mount(self):\n",
    "        self.x_train = self.train[self.features]\n",
    "        self.y_train = self.train['target']\n",
    "        self.x_test = self.test[self.features]\n",
    "        self.y_test = self.test['target']\n",
    "        \n",
    "    def fitTree(self):\n",
    "        self.fitted = self.tree.fit(self.x_train, self.y_train) \n",
    "        \n",
    "    def showTree(self):\n",
    "        file=io.StringIO()\n",
    "        export_graphviz(self.tree, out_file=file, feature_names=self.features)\n",
    "        pydotplus.graph_from_dot_data(file.getvalue()).write_png('dct.png')\n",
    "        img = misc.imread('dct.png')\n",
    "        plt.rcParams[\"figure.figsize\"] = (20, 20)\n",
    "        plt.imshow(img)\n",
    "        \n",
    "    def getPrediction(self):\n",
    "        self.y_pred = self.fitted.predict(self.x_test)\n",
    "        return accuracy_score(self.y_test, self.y_pred)*100\n",
    "        \n",
    "    def makePrediction(self, state):\n",
    "        return self.fitted.predict(state)\n",
    "        \n",
    "    def getTree(self):\n",
    "        self.split()\n",
    "        self.castTarget()\n",
    "        self.createTree()\n",
    "        self.createFeatures()\n",
    "        self.mount()\n",
    "        self.fitTree()\n",
    "        self.showTree()\n",
    "        \n",
    "    def createSignal(self):\n",
    "        self.getTree()\n",
    "        acc = self.getPrediction()\n",
    "        state = self.candles.tail(1)\n",
    "        state = state.drop(['target', 'date'], axis=1)\n",
    "        pred = dct.makePrediction(state)\n",
    "        state.head()\n",
    "        if pred == 0:\n",
    "            return 'buy', acc\n",
    "        else: \n",
    "            return 'sell', acc"
   ]
  },
  {
   "cell_type": "code",
   "execution_count": 122,
   "metadata": {},
   "outputs": [],
   "source": [
    "def runStrategy():\n",
    "    #pegando os candles e calculando bbands e os cross das bandas\n",
    "    bb = Bbands()\n",
    "    bb.calcBands()\n",
    "    bb.plotBands()\n",
    "    bb.detectCross()\n",
    "\n",
    "    #adicionando os outros indicadores\n",
    "    candles = bb.candles\n",
    "    candles = candles.drop(['Open_time', 'Close_time'], axis=1)\n",
    "    candles['EMA - 15'] = ema(candles['Close'].tolist(), 15)\n",
    "    candles['aaron down'] = aroon_down(candles['Close'].tolist(), 25)\n",
    "    candles['aaron up'] = aroon_up(candles['Close'].tolist(), 25)\n",
    "    candles['tenkansen'] = tenkansen(candles['Close'].tolist())\n",
    "    candles['kijunsen'] = kijunsen(candles['Close'].tolist())\n",
    "    candles['momentun'] = momentum(candles['Close'], 15)\n",
    "\n",
    "    #Definindo o target\n",
    "    t = Target(candles) \n",
    "    t.testTarget()\n",
    "    t.plotTargets()\n",
    "    createTarget(t.candles)\n",
    "\n",
    "    #Limpando o dataframe\n",
    "    dt = cleanData(t.candles)\n",
    "    candles_no_NaN = dt.clean()\n",
    "    candles_no_NaN.tail()\n",
    "\n",
    "    #gerando sinal pro ultimo candle\n",
    "    dct = Dct(candles_no_NaN)\n",
    "    sig, acc = dct.createSignal()\n",
    "    return sig, acc"
   ]
  },
  {
   "cell_type": "code",
   "execution_count": 123,
   "metadata": {},
   "outputs": [
    {
     "ename": "NameError",
     "evalue": "name 'dct' is not defined",
     "output_type": "error",
     "traceback": [
      "\u001b[0;31m---------------------------------------------------------------------------\u001b[0m",
      "\u001b[0;31mNameError\u001b[0m                                 Traceback (most recent call last)",
      "\u001b[0;32m<ipython-input-123-65ea0fa3713e>\u001b[0m in \u001b[0;36m<module>\u001b[0;34m\u001b[0m\n\u001b[0;32m----> 1\u001b[0;31m \u001b[0msig\u001b[0m\u001b[0;34m,\u001b[0m \u001b[0macc\u001b[0m \u001b[0;34m=\u001b[0m \u001b[0mrunStrategy\u001b[0m\u001b[0;34m(\u001b[0m\u001b[0;34m)\u001b[0m\u001b[0;34m\u001b[0m\u001b[0;34m\u001b[0m\u001b[0m\n\u001b[0m",
      "\u001b[0;32m<ipython-input-122-1dac96708c70>\u001b[0m in \u001b[0;36mrunStrategy\u001b[0;34m()\u001b[0m\n\u001b[1;32m     29\u001b[0m     \u001b[0;31m#gerando sinal pro ultimo candle\u001b[0m\u001b[0;34m\u001b[0m\u001b[0;34m\u001b[0m\u001b[0;34m\u001b[0m\u001b[0m\n\u001b[1;32m     30\u001b[0m     \u001b[0mdct\u001b[0m \u001b[0;34m=\u001b[0m \u001b[0mDct\u001b[0m\u001b[0;34m(\u001b[0m\u001b[0mcandles_no_NaN\u001b[0m\u001b[0;34m)\u001b[0m\u001b[0;34m\u001b[0m\u001b[0;34m\u001b[0m\u001b[0m\n\u001b[0;32m---> 31\u001b[0;31m     \u001b[0msig\u001b[0m\u001b[0;34m,\u001b[0m \u001b[0macc\u001b[0m \u001b[0;34m=\u001b[0m \u001b[0mdct\u001b[0m\u001b[0;34m.\u001b[0m\u001b[0mcreateSignal\u001b[0m\u001b[0;34m(\u001b[0m\u001b[0;34m)\u001b[0m\u001b[0;34m\u001b[0m\u001b[0;34m\u001b[0m\u001b[0m\n\u001b[0m\u001b[1;32m     32\u001b[0m     \u001b[0;32mreturn\u001b[0m \u001b[0msig\u001b[0m\u001b[0;34m,\u001b[0m \u001b[0macc\u001b[0m\u001b[0;34m\u001b[0m\u001b[0;34m\u001b[0m\u001b[0m\n",
      "\u001b[0;32m<ipython-input-121-8b46e45274c4>\u001b[0m in \u001b[0;36mcreateSignal\u001b[0;34m(self)\u001b[0m\n\u001b[1;32m     74\u001b[0m         \u001b[0mstate\u001b[0m \u001b[0;34m=\u001b[0m \u001b[0mself\u001b[0m\u001b[0;34m.\u001b[0m\u001b[0mcandles\u001b[0m\u001b[0;34m.\u001b[0m\u001b[0mtail\u001b[0m\u001b[0;34m(\u001b[0m\u001b[0;36m1\u001b[0m\u001b[0;34m)\u001b[0m\u001b[0;34m\u001b[0m\u001b[0;34m\u001b[0m\u001b[0m\n\u001b[1;32m     75\u001b[0m         \u001b[0mstate\u001b[0m \u001b[0;34m=\u001b[0m \u001b[0mstate\u001b[0m\u001b[0;34m.\u001b[0m\u001b[0mdrop\u001b[0m\u001b[0;34m(\u001b[0m\u001b[0;34m[\u001b[0m\u001b[0;34m'target'\u001b[0m\u001b[0;34m,\u001b[0m \u001b[0;34m'date'\u001b[0m\u001b[0;34m]\u001b[0m\u001b[0;34m,\u001b[0m \u001b[0maxis\u001b[0m\u001b[0;34m=\u001b[0m\u001b[0;36m1\u001b[0m\u001b[0;34m)\u001b[0m\u001b[0;34m\u001b[0m\u001b[0;34m\u001b[0m\u001b[0m\n\u001b[0;32m---> 76\u001b[0;31m         \u001b[0mpred\u001b[0m \u001b[0;34m=\u001b[0m \u001b[0mdct\u001b[0m\u001b[0;34m.\u001b[0m\u001b[0mmakePrediction\u001b[0m\u001b[0;34m(\u001b[0m\u001b[0mstate\u001b[0m\u001b[0;34m)\u001b[0m\u001b[0;34m\u001b[0m\u001b[0;34m\u001b[0m\u001b[0m\n\u001b[0m\u001b[1;32m     77\u001b[0m         \u001b[0mstate\u001b[0m\u001b[0;34m.\u001b[0m\u001b[0mhead\u001b[0m\u001b[0;34m(\u001b[0m\u001b[0;34m)\u001b[0m\u001b[0;34m\u001b[0m\u001b[0;34m\u001b[0m\u001b[0m\n\u001b[1;32m     78\u001b[0m         \u001b[0;32mif\u001b[0m \u001b[0mpred\u001b[0m \u001b[0;34m==\u001b[0m \u001b[0;36m0\u001b[0m\u001b[0;34m:\u001b[0m\u001b[0;34m\u001b[0m\u001b[0;34m\u001b[0m\u001b[0m\n",
      "\u001b[0;31mNameError\u001b[0m: name 'dct' is not defined"
     ]
    },
    {
     "data": {
      "image/png": "[encoded data removed]",
      "text/plain": [
       "<Figure size 1440x1440 with 1 Axes>"
      ]
     },
     "metadata": {
      "needs_background": "light"
     },
     "output_type": "display_data"
    }
   ],
   "source": [
    "sig, acc = runStrategy()"
   ]
  },
  {
   "cell_type": "code",
   "execution_count": null,
   "metadata": {},
   "outputs": [],
   "source": []
  }
 ],
 "metadata": {
  "kernelspec": {
   "display_name": "Python 3",
   "language": "python",
   "name": "python3"
  },
  "language_info": {
   "codemirror_mode": {
    "name": "ipython",
    "version": 3
   },
   "file_extension": ".py",
   "mimetype": "text/x-python",
   "name": "python",
   "nbconvert_exporter": "python",
   "pygments_lexer": "ipython3",
   "version": "3.6.8"
  }
 },
 "nbformat": 4,
 "nbformat_minor": 2
}
