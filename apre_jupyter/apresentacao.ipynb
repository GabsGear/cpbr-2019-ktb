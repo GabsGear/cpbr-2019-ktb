{
 "cells": [
  {
   "cell_type": "markdown",
   "metadata": {},
   "source": [
    "# Criação do bot\n",
    "\n",
    "# Primeiro Passo, Aquisição dos dados"
   ]
  },
  {
   "attachments": {
    "image.png": {
     "image/png": "[encoded data removed]"
    }
   },
   "cell_type": "markdown",
   "metadata": {},
   "source": [
    "# Candles\n",
    "\n",
    "Candlestick ou gráfico de candles é um tipo de notação criada por Japoneses no século XVIII onde eles faziam muitas negociações com arroz, como compra venda e contratos futuros.\n",
    "\n",
    "Desde então essa notação foi amplamente utilizada por traders pois mostram muitas informações esseiciais sobre o estado do preço de um ativo.\n",
    "\n",
    "### Elementos de um CandleStick\n",
    "\n",
    "+ ***Período***: O período representa o que ocorreu com o preço de uma ação em um período de tempo, cada candle pode representar 1 minuto, 5 minutos, uma hora, um mês e até um ano. \n",
    "+ ***Formato***: O formato do candle representa valores importantes que o preço da ação atingiu em um determinado período de tempo. O modelo OHLC representa\n",
    "    * Abertura: valor no momento inicial do candle\n",
    "    * Máximo: valor máximo do ativo no período \n",
    "    * Mínimo: valor mínimo do ativo no período\n",
    "    * Fechamento: Valor ao fim do período\n",
    "+ ***Cor***: A cor determina se o candle é de alta ou de baixa \n",
    "    * Quando o preço de fechamento for maior que o preço de abertura, significa que o preço subiu durante aquele período e o candlestick será de alta.\n",
    "    * Quando o preço de fechamento está abaixo do preço de abertura, significa que o preço da ação caiu durante aquele determinado período, e o Candle será de baixa.\n",
    "\n",
    "\n",
    "![image.png](attachment:image.png)"
   ]
  },
  {
   "cell_type": "markdown",
   "metadata": {},
   "source": [
    "# Pegando os Candles da API"
   ]
  },
  {
   "cell_type": "code",
   "execution_count": 120,
   "metadata": {},
   "outputs": [],
   "source": [
    "import requests, json\n",
    "from binance.client import Client\n",
    "from binance.enums import *\n",
    "\n",
    "import pandas as pd\n",
    "import numpy as np\n",
    "\n",
    "import time\n",
    "from datetime import datetime\n",
    "\n",
    "from math import pi\n",
    "from bokeh.plotting import figure, show, output_file\n",
    "from bokeh.sampledata.stocks import MSFT\n",
    "from bokeh.models import Band\n",
    "%matplotlib inline\n",
    "\n",
    "\n",
    "class Aquisition(object):\n",
    "    def __init__(self):\n",
    "        self.client = Client('', '')\n",
    "        self.df = \"\"\n",
    "        \n",
    "    def getCandles(self):\n",
    "        self.df = pd.DataFrame(columns= ['Open_time', 'Open', 'High', 'Low', 'Close', 'Volume', 'Close_time'])\n",
    "        candles = self.client.get_klines(symbol='BTCUSDT', interval=Client.KLINE_INTERVAL_1DAY)\n",
    "\n",
    "        opentime, lopen, lhigh, llow, lclose, lvol, closetime = [], [], [], [], [], [], []\n",
    "\n",
    "        for candle in candles:\n",
    "            opentime.append(candle[0])\n",
    "            lopen.append(candle[1])\n",
    "            lhigh.append(candle[2])\n",
    "            llow.append(candle[3])\n",
    "            lclose.append(candle[4])\n",
    "            lvol.append(candle[5])\n",
    "            closetime.append(candle[6])\n",
    "\n",
    "        self.df['Open_time'] = opentime\n",
    "        self.df[\"date\"] = opentime\n",
    "        self.df['Open'] = np.array(lopen).astype(np.float)\n",
    "        self.df['High'] = np.array(lhigh).astype(np.float)\n",
    "        self.df['Low'] = np.array(llow).astype(np.float)\n",
    "        self.df['Close'] = np.array(lclose).astype(np.float)\n",
    "        self.df['Volume'] = np.array(lvol).astype(np.float)\n",
    "        self.df['Close_time'] = closetime\n",
    "        self.df[\"date\"] = pd.to_datetime(self.df['date'],unit='ms')\n",
    "        return self.df\n",
    "    \n",
    "    \n",
    "    def plotCandles(self):\n",
    "        df = self.df[450:]\n",
    "        df[\"date\"] = df[\"Open_time\"]\n",
    "        df[\"date\"] = pd.to_datetime(self.df['date'],unit='ms')\n",
    "\n",
    "        inc = df.Close > df.Open\n",
    "        dec = df.Open > df.Close\n",
    "        w = 12*60*60*1000 # half day in ms\n",
    "\n",
    "        TOOLS = \"pan,wheel_zoom,box_zoom,reset,save\"\n",
    "\n",
    "        p = figure(x_axis_type=\"datetime\", tools=TOOLS, plot_width=1000, title = \"BITCOIN Candlestick\")\n",
    "        p.xaxis.major_label_orientation = pi/4\n",
    "        p.grid.grid_line_alpha=0.3\n",
    "\n",
    "        p.segment(df.date, df.High, df.date, df.Low, color=\"black\")\n",
    "        p.vbar(df.date[inc], w, df.Open[inc], df.Close[inc], fill_color=\"#006400\", line_color=\"black\")\n",
    "        p.vbar(df.date[dec], w, df.Open[dec], df.Close[dec], fill_color=\"#F2583E\", line_color=\"black\")\n",
    "\n",
    "        output_file(\"candlestick.html\", title=\"candlestick.py Grafico de Candles\")\n",
    "\n",
    "        show(p)  "
   ]
  },
  {
   "cell_type": "markdown",
   "metadata": {},
   "source": [
    "# Podemos ver os candles e mostrar com bokeh"
   ]
  },
  {
   "cell_type": "code",
   "execution_count": 121,
   "metadata": {},
   "outputs": [
    {
     "data": {
      "text/html": [
       "<div>\n",
       "<style scoped>\n",
       "    .dataframe tbody tr th:only-of-type {\n",
       "        vertical-align: middle;\n",
       "    }\n",
       "\n",
       "    .dataframe tbody tr th {\n",
       "        vertical-align: top;\n",
       "    }\n",
       "\n",
       "    .dataframe thead th {\n",
       "        text-align: right;\n",
       "    }\n",
       "</style>\n",
       "<table border=\"1\" class=\"dataframe\">\n",
       "  <thead>\n",
       "    <tr style=\"text-align: right;\">\n",
       "      <th></th>\n",
       "      <th>Open_time</th>\n",
       "      <th>Open</th>\n",
       "      <th>High</th>\n",
       "      <th>Low</th>\n",
       "      <th>Close</th>\n",
       "      <th>Volume</th>\n",
       "      <th>Close_time</th>\n",
       "      <th>date</th>\n",
       "    </tr>\n",
       "  </thead>\n",
       "  <tbody>\n",
       "    <tr>\n",
       "      <th>0</th>\n",
       "      <td>1504137600000</td>\n",
       "      <td>4555.14</td>\n",
       "      <td>4745.42</td>\n",
       "      <td>4555.14</td>\n",
       "      <td>4724.89</td>\n",
       "      <td>556.956802</td>\n",
       "      <td>1504223999999</td>\n",
       "      <td>2017-08-31</td>\n",
       "    </tr>\n",
       "    <tr>\n",
       "      <th>1</th>\n",
       "      <td>1504224000000</td>\n",
       "      <td>4689.89</td>\n",
       "      <td>4885.55</td>\n",
       "      <td>4654.88</td>\n",
       "      <td>4834.91</td>\n",
       "      <td>560.666366</td>\n",
       "      <td>1504310399999</td>\n",
       "      <td>2017-09-01</td>\n",
       "    </tr>\n",
       "    <tr>\n",
       "      <th>2</th>\n",
       "      <td>1504310400000</td>\n",
       "      <td>4796.16</td>\n",
       "      <td>4939.19</td>\n",
       "      <td>4286.87</td>\n",
       "      <td>4472.14</td>\n",
       "      <td>929.148595</td>\n",
       "      <td>1504396799999</td>\n",
       "      <td>2017-09-02</td>\n",
       "    </tr>\n",
       "    <tr>\n",
       "      <th>3</th>\n",
       "      <td>1504396800000</td>\n",
       "      <td>4508.50</td>\n",
       "      <td>4714.76</td>\n",
       "      <td>4298.33</td>\n",
       "      <td>4509.08</td>\n",
       "      <td>691.216198</td>\n",
       "      <td>1504483199999</td>\n",
       "      <td>2017-09-03</td>\n",
       "    </tr>\n",
       "    <tr>\n",
       "      <th>4</th>\n",
       "      <td>1504483200000</td>\n",
       "      <td>4505.00</td>\n",
       "      <td>4527.49</td>\n",
       "      <td>3972.51</td>\n",
       "      <td>4100.11</td>\n",
       "      <td>1394.644614</td>\n",
       "      <td>1504569599999</td>\n",
       "      <td>2017-09-04</td>\n",
       "    </tr>\n",
       "  </tbody>\n",
       "</table>\n",
       "</div>"
      ],
      "text/plain": [
       "       Open_time     Open     High      Low    Close       Volume  \\\n",
       "0  1504137600000  4555.14  4745.42  4555.14  4724.89   556.956802   \n",
       "1  1504224000000  4689.89  4885.55  4654.88  4834.91   560.666366   \n",
       "2  1504310400000  4796.16  4939.19  4286.87  4472.14   929.148595   \n",
       "3  1504396800000  4508.50  4714.76  4298.33  4509.08   691.216198   \n",
       "4  1504483200000  4505.00  4527.49  3972.51  4100.11  1394.644614   \n",
       "\n",
       "      Close_time       date  \n",
       "0  1504223999999 2017-08-31  \n",
       "1  1504310399999 2017-09-01  \n",
       "2  1504396799999 2017-09-02  \n",
       "3  1504483199999 2017-09-03  \n",
       "4  1504569599999 2017-09-04  "
      ]
     },
     "execution_count": 121,
     "metadata": {},
     "output_type": "execute_result"
    }
   ],
   "source": [
    "aq = Aquisition()\n",
    "aq.getCandles()\n",
    "aq.df.head()"
   ]
  },
  {
   "cell_type": "code",
   "execution_count": 90,
   "metadata": {
    "scrolled": false
   },
   "outputs": [
    {
     "name": "stderr",
     "output_type": "stream",
     "text": [
      "/home/gabs/anaconda3/envs/Tensorflow/lib/python3.6/site-packages/ipykernel_launcher.py:52: SettingWithCopyWarning: \n",
      "A value is trying to be set on a copy of a slice from a DataFrame.\n",
      "Try using .loc[row_indexer,col_indexer] = value instead\n",
      "\n",
      "See the caveats in the documentation: http://pandas.pydata.org/pandas-docs/stable/indexing.html#indexing-view-versus-copy\n",
      "/home/gabs/anaconda3/envs/Tensorflow/lib/python3.6/site-packages/ipykernel_launcher.py:53: SettingWithCopyWarning: \n",
      "A value is trying to be set on a copy of a slice from a DataFrame.\n",
      "Try using .loc[row_indexer,col_indexer] = value instead\n",
      "\n",
      "See the caveats in the documentation: http://pandas.pydata.org/pandas-docs/stable/indexing.html#indexing-view-versus-copy\n"
     ]
    }
   ],
   "source": [
    "aq.plotCandles()"
   ]
  },
  {
   "cell_type": "markdown",
   "metadata": {},
   "source": [
    "# Criando indicador Bandas de Boillinger"
   ]
  },
  {
   "cell_type": "code",
   "execution_count": 91,
   "metadata": {},
   "outputs": [],
   "source": [
    "class Bbands(Aquisition):  \n",
    "    \n",
    "    def __init__(self, nDer = 2, period = 20):\n",
    "        super(Bbands, self).__init__()\n",
    "        self.candles = super().getCandles()\n",
    "        self.nDer = nDer\n",
    "        self.period = period\n",
    "    \n",
    "    def calcBands(self):\n",
    "        self.candles['30 Day MA'] = self.candles['Close'].rolling(window=self.period).mean()\n",
    "        self.candles['30 Day STD'] = self.candles['Close'].rolling(window=self.period).std()\n",
    "        self.candles['Upper Band'] = self.candles['30 Day MA'] + (self.candles['30 Day STD'] * self.nDer)\n",
    "        self.candles['Lower Band'] = self.candles['30 Day MA'] - (self.candles['30 Day STD'] * self.nDer)\n",
    "        \n",
    "    def plotSetting(self, df):\n",
    "        TOOLS = \"pan,wheel_zoom,box_zoom,reset,save\"\n",
    "        p = figure(x_axis_type=\"datetime\", tools=TOOLS, plot_width=1000, title = \"Bbands Chart\")\n",
    "        p.xaxis.major_label_orientation = pi/4\n",
    "        p.grid.grid_line_alpha=0.3\n",
    "        p.line(df.date, df.Close, line_color=\"black\")\n",
    "        p.line(df.date, df['30 Day MA'], line_color=\"red\", legend=\"30 Day MA\", muted_alpha=0.2)\n",
    "        p.line(df.date, df['Upper Band'], line_color=\"blue\", legend=\"Upper Band\", muted_alpha=0.2)\n",
    "        p.line(df.date, df['Lower Band'], line_color=\"green\", legend=\"Lower Band\", muted_alpha=0.2)\n",
    "        \n",
    "        p.legend.location = \"top_left\"\n",
    "        p.legend.click_policy=\"mute\"\n",
    "        return p\n",
    "        \n",
    "    def plotBands(self):\n",
    "        df = self.candles\n",
    "        p = self.plotSetting(df)\n",
    "        output_file(\"candlestick.html\", title=\"candlestick.py Bbands\")\n",
    "        show(p)  \n",
    "        \n",
    "    def detectCross(self):\n",
    "        self.calcBands()\n",
    "        self.candles['up_cross'] = np.where((self.candles['Close'] >= self.candles['Upper Band'])\n",
    "                     , self.candles['Close'], 'NaN')\n",
    "        \n",
    "        self.candles['down_cross'] = np.where((self.candles['Close'] <= self.candles['Lower Band'])\n",
    "             , self.candles['Close'],  'NaN')\n",
    "        \n",
    "        p = self.plotSetting(self.candles)        \n",
    "        p.circle(self.candles.date, self.candles['up_cross'], size=5, color=\"red\", alpha=1)\n",
    "        p.circle(self.candles.date, self.candles['down_cross'], size=5, color=\"green\", alpha=1)\n",
    "        \n",
    "        output_file(\"candlestick.html\", title=\"candlestick.py Bbands\")\n",
    "        show(p)  "
   ]
  },
  {
   "cell_type": "code",
   "execution_count": 92,
   "metadata": {
    "scrolled": false
   },
   "outputs": [],
   "source": [
    "bb = Bbands()\n",
    "bb.calcBands()\n",
    "bb.plotBands()"
   ]
  },
  {
   "cell_type": "code",
   "execution_count": 93,
   "metadata": {},
   "outputs": [],
   "source": [
    "bb.detectCross()"
   ]
  },
  {
   "cell_type": "markdown",
   "metadata": {},
   "source": [
    "# Programação das rotinas do bot"
   ]
  },
  {
   "cell_type": "code",
   "execution_count": null,
   "metadata": {},
   "outputs": [],
   "source": [
    "class Orders(object):\n",
    "    def createOrder(self, side=SIDE_BUY, quantity=100, price='0.00001'):\n",
    "        try:\n",
    "            order = Client.create_test_order(\n",
    "            symbol='USDTBTC',\n",
    "            side=side,\n",
    "            type=ORDER_TYPE_LIMIT,\n",
    "            timeInForce=TIME_IN_FORCE_GTC,\n",
    "            quantity=quantity,\n",
    "            price=price)\n",
    "        except:\n",
    "            print('erro create order')\n",
    "        \n",
    "    def loginAPI(self):\n",
    "        pass\n",
    "    \n",
    "\n",
    "class Bot(object):\n",
    "    def __init__(self):\n",
    "        self.botStatus = {\n",
    "            'openOrder':'none',\n",
    "            'lastOperation':'sell',\n",
    "        }\n",
    "    \n",
    "    def checkStrategy(self):\n",
    "        return 'buy'\n",
    "    \n",
    "    def checkSignal(self):\n",
    "        signal = checkStrategy():\n",
    "        if(signal == 'buy'):\n",
    "            self.updateStatus('yes', signal)\n",
    "        if (signal == 'sell'):\n",
    "            self.updateStatus('no', signal)\n",
    "        else:\n",
    "            continue\n",
    "    \n",
    "    def updateStatus(self, status, operation):\n",
    "        self.botStatus['openOrder'] = status\n",
    "        self.botStatus['lastOperation'] = operation"
   ]
  },
  {
   "cell_type": "code",
   "execution_count": 122,
   "metadata": {},
   "outputs": [
    {
     "name": "stdout",
     "output_type": "stream",
     "text": [
      "Runtime = 70 seconds\n"
     ]
    },
    {
     "ename": "KeyboardInterrupt",
     "evalue": "",
     "output_type": "error",
     "traceback": [
      "\u001b[0;31m-------------------------------------------------------------------\u001b[0m",
      "\u001b[0;31mKeyboardInterrupt\u001b[0m                 Traceback (most recent call last)",
      "\u001b[0;32m<ipython-input-122-e0ea72b8e427>\u001b[0m in \u001b[0;36m<module>\u001b[0;34m\u001b[0m\n\u001b[1;32m     11\u001b[0m     \u001b[0mclear_output\u001b[0m\u001b[0;34m(\u001b[0m\u001b[0;34m)\u001b[0m\u001b[0;34m\u001b[0m\u001b[0;34m\u001b[0m\u001b[0m\n\u001b[1;32m     12\u001b[0m     \u001b[0mprint\u001b[0m\u001b[0;34m(\u001b[0m\u001b[0;34m'Runtime = %s seconds'\u001b[0m \u001b[0;34m%\u001b[0m \u001b[0;34m(\u001b[0m\u001b[0mruntime\u001b[0m\u001b[0;34m)\u001b[0m\u001b[0;34m)\u001b[0m\u001b[0;34m\u001b[0m\u001b[0;34m\u001b[0m\u001b[0m\n\u001b[0;32m---> 13\u001b[0;31m     \u001b[0mtime\u001b[0m\u001b[0;34m.\u001b[0m\u001b[0msleep\u001b[0m\u001b[0;34m(\u001b[0m\u001b[0;36m2\u001b[0m\u001b[0;34m)\u001b[0m\u001b[0;34m\u001b[0m\u001b[0;34m\u001b[0m\u001b[0m\n\u001b[0m\u001b[1;32m     14\u001b[0m     \u001b[0mruntime\u001b[0m \u001b[0;34m+=\u001b[0m \u001b[0;36m2\u001b[0m\u001b[0;34m\u001b[0m\u001b[0;34m\u001b[0m\u001b[0m\n",
      "\u001b[0;31mKeyboardInterrupt\u001b[0m: "
     ]
    }
   ],
   "source": [
    "#main thread\n",
    "from IPython.display import clear_output\n",
    "\n",
    "aq.getCandles()\n",
    "aq.plotCandles()\n",
    "\n",
    "bot = Bot()\n",
    "runtime = 0\n",
    "while(True):\n",
    "    bot.checkSignal()\n",
    "    clear_output()\n",
    "    print('Runtime = %s seconds' % (runtime))\n",
    "    time.sleep(2)\n",
    "    runtime += 2"
   ]
  },
  {
   "cell_type": "code",
   "execution_count": null,
   "metadata": {},
   "outputs": [],
   "source": []
  }
 ],
 "metadata": {
  "kernelspec": {
   "display_name": "Python 3",
   "language": "python",
   "name": "python3"
  },
  "language_info": {
   "codemirror_mode": {
    "name": "ipython",
    "version": 3
   },
   "file_extension": ".py",
   "mimetype": "text/x-python",
   "name": "python",
   "nbconvert_exporter": "python",
   "pygments_lexer": "ipython3",
   "version": "3.6.8"
  }
 },
 "nbformat": 4,
 "nbformat_minor": 2
}
