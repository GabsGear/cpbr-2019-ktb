{
 "cells": [
  {
   "cell_type": "code",
   "execution_count": null,
   "metadata": {},
   "outputs": [
    {
     "data": {
      "text/plain": [
       "<Figure size 1000x1000 with 1 Axes>"
      ]
     },
     "metadata": {},
     "output_type": "display_data"
    },
    {
     "name": "stderr",
     "output_type": "stream",
     "text": [
      "No handles with labels found to put in legend.\n"
     ]
    },
    {
     "data": {
      "text/plain": [
       "<Figure size 640x480 with 1 Axes>"
      ]
     },
     "metadata": {},
     "output_type": "display_data"
    },
    {
     "name": "stderr",
     "output_type": "stream",
     "text": [
      "No handles with labels found to put in legend.\n"
     ]
    },
    {
     "data": {
      "text/plain": [
       "<Figure size 640x480 with 1 Axes>"
      ]
     },
     "metadata": {},
     "output_type": "display_data"
    },
    {
     "name": "stderr",
     "output_type": "stream",
     "text": [
      "No handles with labels found to put in legend.\n"
     ]
    },
    {
     "data": {
      "text/plain": [
       "<Figure size 640x480 with 1 Axes>"
      ]
     },
     "metadata": {},
     "output_type": "display_data"
    },
    {
     "name": "stderr",
     "output_type": "stream",
     "text": [
      "No handles with labels found to put in legend.\n"
     ]
    },
    {
     "data": {
      "text/plain": [
       "<Figure size 640x480 with 1 Axes>"
      ]
     },
     "metadata": {},
     "output_type": "display_data"
    },
    {
     "name": "stderr",
     "output_type": "stream",
     "text": [
      "No handles with labels found to put in legend.\n"
     ]
    },
    {
     "data": {
      "text/plain": [
       "<Figure size 640x480 with 1 Axes>"
      ]
     },
     "metadata": {},
     "output_type": "display_data"
    },
    {
     "name": "stderr",
     "output_type": "stream",
     "text": [
      "No handles with labels found to put in legend.\n"
     ]
    },
    {
     "data": {
      "text/plain": [
       "<Figure size 640x480 with 1 Axes>"
      ]
     },
     "metadata": {},
     "output_type": "display_data"
    },
    {
     "name": "stderr",
     "output_type": "stream",
     "text": [
      "No handles with labels found to put in legend.\n"
     ]
    },
    {
     "data": {
      "text/plain": [
       "<Figure size 640x480 with 1 Axes>"
      ]
     },
     "metadata": {},
     "output_type": "display_data"
    },
    {
     "name": "stderr",
     "output_type": "stream",
     "text": [
      "No handles with labels found to put in legend.\n"
     ]
    },
    {
     "data": {
      "text/plain": [
       "<Figure size 640x480 with 1 Axes>"
      ]
     },
     "metadata": {},
     "output_type": "display_data"
    }
   ],
   "source": [
    "import requests, json\n",
    "import matplotlib.pyplot as plt\n",
    "import pandas as pd\n",
    "import time\n",
    "import os\n",
    "import numpy as np\n",
    "\n",
    "fig = plt.figure(figsize=(10,10))\n",
    "ax = fig.gca()\n",
    "\n",
    "if os.path.isfile('prices.csv'):\n",
    "    pass\n",
    "else:\n",
    "    pFile = open(\"prices.csv\",\"w\")\n",
    "    pFile.write(\"bidPrice,askPrice\\n\") \n",
    "    pFile.close()\n",
    "\n",
    "def spread(bid,ask):\n",
    "    return (ask - bid) / ( ask / 100)\n",
    "\n",
    "def bbands(tickers, window, nDerivation):\n",
    "    if len(tickers) > window:\n",
    "        mean = tickers.rolling(window=window).mean()\n",
    "        std = tickers.rolling(window=window).std()\n",
    "        bband = {\n",
    "            'mean':mean,\n",
    "            'upperBand':mean + (std * nDerivation),\n",
    "            'lowerBand':mean - (std * nDerivation)\n",
    "        }\n",
    "        return bband\n",
    "\n",
    "def getTickers():\n",
    "    prices = \"https://www.binance.com/api/v3/ticker/bookTicker\"\n",
    "    data = requests.get(url=prices)\n",
    "    data = data.json()\n",
    "    mfile = open(\"prices.csv\",\"a\")\n",
    "    mfile.write(\"{},{}\\n\".format(data[1]['bidPrice'], data[1]['askPrice']))\n",
    "    mfile.close()\n",
    "\n",
    "def plot():\n",
    "    df = pd.read_csv(\"prices.csv\")\n",
    "    if len(df) > 1:\n",
    "        ax.clear()\n",
    "        bid = df['bidPrice']\n",
    "        ask = df['askPrice']\n",
    "        diferenca = ask[-1:] - bid[-1:]\n",
    "        plt.title(\"Litecoin/BTC\")\n",
    "        ax.set_xlim(len(bid)/10, len(bid)+(len(bid)/4)+5)\n",
    "        ax.plot(bid, label = \"Bid - Venda LTC {}\".format(np.around(float(bid[-1:]),8)), color = 'blue', alpha = 0.5)\n",
    "        #ax.plot(ask, label = \"Ask - Compra LTC \"+ str(np.around(float(ask[-1:]),8)), color = 'red', alpha = 0.5)\n",
    "        \n",
    "        bband = bbands(bid, 30, 2)\n",
    "        ax.plot(bband['mean'], \"--\", color = \"gray\", label='SMA')\n",
    "        ax.plot(bband['upperBand'], \"--\", color = \"green\", label='upperBand')\n",
    "        ax.plot(bband['lowerBand'], \"--\", color = \"green\", label='lowerBand')\n",
    "        plt.legend()\n",
    "        plt.pause(2)\n",
    "\n",
    "while True:\n",
    "    getTickers()\n",
    "    plot\n",
    " \n",
    "\n"
   ]
  },
  {
   "cell_type": "code",
   "execution_count": 40,
   "metadata": {},
   "outputs": [],
   "source": []
  },
  {
   "cell_type": "code",
   "execution_count": 41,
   "metadata": {},
   "outputs": [
    {
     "name": "stdout",
     "output_type": "stream",
     "text": [
      "0.00707800\n"
     ]
    },
    {
     "data": {
      "image/png": "[encoded data removed]",
      "text/plain": [
       "<Figure size 432x288 with 1 Axes>"
      ]
     },
     "metadata": {},
     "output_type": "display_data"
    }
   ],
   "source": []
  },
  {
   "cell_type": "code",
   "execution_count": null,
   "metadata": {},
   "outputs": [],
   "source": []
  }
 ],
 "metadata": {
  "kernelspec": {
   "display_name": "Python 3",
   "language": "python",
   "name": "python3"
  },
  "language_info": {
   "codemirror_mode": {
    "name": "ipython",
    "version": 3
   },
   "file_extension": ".py",
   "mimetype": "text/x-python",
   "name": "python",
   "nbconvert_exporter": "python",
   "pygments_lexer": "ipython3",
   "version": "3.6.5"
  }
 },
 "nbformat": 4,
 "nbformat_minor": 2
}
